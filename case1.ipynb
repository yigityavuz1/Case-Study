{
 "cells": [
  {
   "cell_type": "code",
   "execution_count": 1,
   "metadata": {},
   "outputs": [],
   "source": [
    "from google.cloud import bigquery\n",
    "import pandas as pd\n",
    "import altair as alt\n",
    "import os\n",
    "\n",
    "os.environ['GOOGLE_APPLICATION_CREDENTIALS'] = \"/Users/yigityavuzyildiz/Desktop/bruin_case/bruin-hiring-1c80ac56a1b8.json\"\n",
    "\n",
    "client = bigquery.Client()"
   ]
  },
  {
   "cell_type": "code",
   "execution_count": 48,
   "metadata": {},
   "outputs": [],
   "source": [
    "def run_query_and_visualize(query, x_column, y_column, chart_type='bar', title=''):\n",
    "    \"\"\"\n",
    "    Runs a BigQuery SQL query and visualizes the result using Altair.\n",
    "\n",
    "    Parameters:\n",
    "    query (str): The SQL query to run.\n",
    "    x_column (str): The column to use for the x-axis.\n",
    "    y_column (str): The column to use for the y-axis.\n",
    "    chart_type (str): The type of chart to create ('bar', 'line'). Default is 'bar'.\n",
    "    title (str): The title of the chart.\n",
    "    \n",
    "    Returns:\n",
    "    None\n",
    "    \"\"\"\n",
    "    \n",
    "    query_job = client.query(query)  \n",
    "    df = query_job.to_dataframe()\n",
    "\n",
    "    print(df)\n",
    "\n",
    "    if df[x_column].dtype == 'datetime64[ns]':\n",
    "        df[x_column] = df[x_column].dt.strftime('%Y-%m-%d')\n",
    "\n",
    "    selection = alt.selection_multi(fields=[x_column], bind='legend')\n",
    "\n",
    "    if chart_type == 'bar':\n",
    "        chart = alt.Chart(df).mark_bar().encode(\n",
    "            x=alt.X(x_column, sort='-y'),\n",
    "            y=y_column,\n",
    "            tooltip=[x_column, y_column],\n",
    "            color=alt.condition(selection, alt.value('steelblue'), alt.value('lightgray'))\n",
    "        ).properties(\n",
    "            title=title\n",
    "        ).add_selection(\n",
    "            selection\n",
    "        ).interactive()\n",
    "    elif chart_type == 'line':\n",
    "        chart = alt.Chart(df).mark_line().encode(\n",
    "            x=x_column,\n",
    "            y=y_column,\n",
    "            tooltip=[x_column, y_column]\n",
    "        ).properties(\n",
    "            title=title\n",
    "        ).interactive()\n",
    "    else:\n",
    "        raise ValueError(\"Unsupported chart type: {}\".format(chart_type))\n",
    "\n",
    "    chart.show()\n"
   ]
  },
  {
   "cell_type": "markdown",
   "metadata": {},
   "source": [
    "# 1) Most Popular Repositories\n"
   ]
  },
  {
   "cell_type": "code",
   "execution_count": 32,
   "metadata": {},
   "outputs": [
    {
     "name": "stdout",
     "output_type": "stream",
     "text": [
      "               repo_name  commit_count\n",
      "0         torvalds/linux        602604\n",
      "1            apple/swift         38891\n",
      "2         twbs/bootstrap         11777\n",
      "3       Microsoft/vscode          6909\n",
      "4         facebook/react          6875\n",
      "5  tensorflow/tensorflow          5253\n"
     ]
    },
    {
     "name": "stderr",
     "output_type": "stream",
     "text": [
      "/Users/yigityavuzyildiz/anaconda3/envs/bruin/lib/python3.11/site-packages/altair/utils/deprecation.py:65: AltairDeprecationWarning: 'selection_multi' is deprecated.  Use 'selection_point'\n",
      "  warnings.warn(message, AltairDeprecationWarning, stacklevel=1)\n",
      "/Users/yigityavuzyildiz/anaconda3/envs/bruin/lib/python3.11/site-packages/altair/utils/deprecation.py:65: AltairDeprecationWarning: 'add_selection' is deprecated. Use 'add_params' instead.\n",
      "  warnings.warn(message, AltairDeprecationWarning, stacklevel=1)\n"
     ]
    },
    {
     "data": {
      "text/html": [
       "\n",
       "<style>\n",
       "  #altair-viz-5fff8a0d0f4449c8959219c17b9c9aba.vega-embed {\n",
       "    width: 100%;\n",
       "    display: flex;\n",
       "  }\n",
       "\n",
       "  #altair-viz-5fff8a0d0f4449c8959219c17b9c9aba.vega-embed details,\n",
       "  #altair-viz-5fff8a0d0f4449c8959219c17b9c9aba.vega-embed details summary {\n",
       "    position: relative;\n",
       "  }\n",
       "</style>\n",
       "<div id=\"altair-viz-5fff8a0d0f4449c8959219c17b9c9aba\"></div>\n",
       "<script type=\"text/javascript\">\n",
       "  var VEGA_DEBUG = (typeof VEGA_DEBUG == \"undefined\") ? {} : VEGA_DEBUG;\n",
       "  (function(spec, embedOpt){\n",
       "    let outputDiv = document.currentScript.previousElementSibling;\n",
       "    if (outputDiv.id !== \"altair-viz-5fff8a0d0f4449c8959219c17b9c9aba\") {\n",
       "      outputDiv = document.getElementById(\"altair-viz-5fff8a0d0f4449c8959219c17b9c9aba\");\n",
       "    }\n",
       "    const paths = {\n",
       "      \"vega\": \"https://cdn.jsdelivr.net/npm/vega@5?noext\",\n",
       "      \"vega-lib\": \"https://cdn.jsdelivr.net/npm/vega-lib?noext\",\n",
       "      \"vega-lite\": \"https://cdn.jsdelivr.net/npm/vega-lite@5.17.0?noext\",\n",
       "      \"vega-embed\": \"https://cdn.jsdelivr.net/npm/vega-embed@6?noext\",\n",
       "    };\n",
       "\n",
       "    function maybeLoadScript(lib, version) {\n",
       "      var key = `${lib.replace(\"-\", \"\")}_version`;\n",
       "      return (VEGA_DEBUG[key] == version) ?\n",
       "        Promise.resolve(paths[lib]) :\n",
       "        new Promise(function(resolve, reject) {\n",
       "          var s = document.createElement('script');\n",
       "          document.getElementsByTagName(\"head\")[0].appendChild(s);\n",
       "          s.async = true;\n",
       "          s.onload = () => {\n",
       "            VEGA_DEBUG[key] = version;\n",
       "            return resolve(paths[lib]);\n",
       "          };\n",
       "          s.onerror = () => reject(`Error loading script: ${paths[lib]}`);\n",
       "          s.src = paths[lib];\n",
       "        });\n",
       "    }\n",
       "\n",
       "    function showError(err) {\n",
       "      outputDiv.innerHTML = `<div class=\"error\" style=\"color:red;\">${err}</div>`;\n",
       "      throw err;\n",
       "    }\n",
       "\n",
       "    function displayChart(vegaEmbed) {\n",
       "      vegaEmbed(outputDiv, spec, embedOpt)\n",
       "        .catch(err => showError(`Javascript Error: ${err.message}<br>This usually means there's a typo in your chart specification. See the javascript console for the full traceback.`));\n",
       "    }\n",
       "\n",
       "    if(typeof define === \"function\" && define.amd) {\n",
       "      requirejs.config({paths});\n",
       "      require([\"vega-embed\"], displayChart, err => showError(`Error loading script: ${err.message}`));\n",
       "    } else {\n",
       "      maybeLoadScript(\"vega\", \"5\")\n",
       "        .then(() => maybeLoadScript(\"vega-lite\", \"5.17.0\"))\n",
       "        .then(() => maybeLoadScript(\"vega-embed\", \"6\"))\n",
       "        .catch(showError)\n",
       "        .then(() => displayChart(vegaEmbed));\n",
       "    }\n",
       "  })({\"config\": {\"view\": {\"continuousWidth\": 300, \"continuousHeight\": 300}}, \"data\": {\"name\": \"data-f0164bfba40539f07eb83d1b3c5cc538\"}, \"mark\": {\"type\": \"bar\"}, \"encoding\": {\"color\": {\"condition\": {\"param\": \"param_5\", \"value\": \"steelblue\"}, \"value\": \"lightgray\"}, \"tooltip\": [{\"field\": \"repo_name\", \"type\": \"nominal\"}, {\"field\": \"commit_count\", \"type\": \"quantitative\"}], \"x\": {\"field\": \"repo_name\", \"sort\": \"-y\", \"type\": \"nominal\"}, \"y\": {\"field\": \"commit_count\", \"type\": \"quantitative\"}}, \"params\": [{\"name\": \"param_5\", \"select\": {\"type\": \"point\", \"fields\": [\"repo_name\"]}, \"bind\": \"legend\"}, {\"name\": \"param_6\", \"select\": {\"type\": \"interval\", \"encodings\": [\"x\", \"y\"]}, \"bind\": \"scales\"}], \"title\": \"Most Popular Repositories\", \"$schema\": \"https://vega.github.io/schema/vega-lite/v5.17.0.json\", \"datasets\": {\"data-f0164bfba40539f07eb83d1b3c5cc538\": [{\"repo_name\": \"torvalds/linux\", \"commit_count\": 602604}, {\"repo_name\": \"apple/swift\", \"commit_count\": 38891}, {\"repo_name\": \"twbs/bootstrap\", \"commit_count\": 11777}, {\"repo_name\": \"Microsoft/vscode\", \"commit_count\": 6909}, {\"repo_name\": \"facebook/react\", \"commit_count\": 6875}, {\"repo_name\": \"tensorflow/tensorflow\", \"commit_count\": 5253}]}}, {\"mode\": \"vega-lite\"});\n",
       "</script>"
      ],
      "text/plain": [
       "alt.Chart(...)"
      ]
     },
     "metadata": {},
     "output_type": "display_data"
    }
   ],
   "source": [
    "query = \"\"\"\n",
    "SELECT repo_name, COUNT(*) as commit_count\n",
    "FROM `bruin-hiring.github_repos.sample_commits`\n",
    "GROUP BY repo_name\n",
    "ORDER BY commit_count DESC\n",
    "LIMIT 10;\n",
    "\"\"\"\n",
    "run_query_and_visualize(query, 'repo_name', 'commit_count', chart_type='bar', title='Most Popular Repositories')\n"
   ]
  },
  {
   "cell_type": "markdown",
   "metadata": {},
   "source": [
    "# 2) Top Contributors\n"
   ]
  },
  {
   "cell_type": "code",
   "execution_count": 33,
   "metadata": {},
   "outputs": [
    {
     "name": "stdout",
     "output_type": "stream",
     "text": [
      "             author_name  commit_count\n",
      "0         Linus Torvalds         20776\n",
      "1        David S. Miller          7552\n",
      "2             Mark Brown          6466\n",
      "3      H Hartley Sweeten          5857\n",
      "4              Mark Otto          5823\n",
      "5           Takashi Iwai          5801\n",
      "6                Al Viro          5439\n",
      "7            Ingo Molnar          4858\n",
      "8          Chris Lattner          4448\n",
      "9  Mauro Carvalho Chehab          4043\n"
     ]
    },
    {
     "name": "stderr",
     "output_type": "stream",
     "text": [
      "/Users/yigityavuzyildiz/anaconda3/envs/bruin/lib/python3.11/site-packages/altair/utils/deprecation.py:65: AltairDeprecationWarning: 'selection_multi' is deprecated.  Use 'selection_point'\n",
      "  warnings.warn(message, AltairDeprecationWarning, stacklevel=1)\n",
      "/Users/yigityavuzyildiz/anaconda3/envs/bruin/lib/python3.11/site-packages/altair/utils/deprecation.py:65: AltairDeprecationWarning: 'add_selection' is deprecated. Use 'add_params' instead.\n",
      "  warnings.warn(message, AltairDeprecationWarning, stacklevel=1)\n"
     ]
    },
    {
     "data": {
      "text/html": [
       "\n",
       "<style>\n",
       "  #altair-viz-42473a7bb624414d9c9d3d78c3724da8.vega-embed {\n",
       "    width: 100%;\n",
       "    display: flex;\n",
       "  }\n",
       "\n",
       "  #altair-viz-42473a7bb624414d9c9d3d78c3724da8.vega-embed details,\n",
       "  #altair-viz-42473a7bb624414d9c9d3d78c3724da8.vega-embed details summary {\n",
       "    position: relative;\n",
       "  }\n",
       "</style>\n",
       "<div id=\"altair-viz-42473a7bb624414d9c9d3d78c3724da8\"></div>\n",
       "<script type=\"text/javascript\">\n",
       "  var VEGA_DEBUG = (typeof VEGA_DEBUG == \"undefined\") ? {} : VEGA_DEBUG;\n",
       "  (function(spec, embedOpt){\n",
       "    let outputDiv = document.currentScript.previousElementSibling;\n",
       "    if (outputDiv.id !== \"altair-viz-42473a7bb624414d9c9d3d78c3724da8\") {\n",
       "      outputDiv = document.getElementById(\"altair-viz-42473a7bb624414d9c9d3d78c3724da8\");\n",
       "    }\n",
       "    const paths = {\n",
       "      \"vega\": \"https://cdn.jsdelivr.net/npm/vega@5?noext\",\n",
       "      \"vega-lib\": \"https://cdn.jsdelivr.net/npm/vega-lib?noext\",\n",
       "      \"vega-lite\": \"https://cdn.jsdelivr.net/npm/vega-lite@5.17.0?noext\",\n",
       "      \"vega-embed\": \"https://cdn.jsdelivr.net/npm/vega-embed@6?noext\",\n",
       "    };\n",
       "\n",
       "    function maybeLoadScript(lib, version) {\n",
       "      var key = `${lib.replace(\"-\", \"\")}_version`;\n",
       "      return (VEGA_DEBUG[key] == version) ?\n",
       "        Promise.resolve(paths[lib]) :\n",
       "        new Promise(function(resolve, reject) {\n",
       "          var s = document.createElement('script');\n",
       "          document.getElementsByTagName(\"head\")[0].appendChild(s);\n",
       "          s.async = true;\n",
       "          s.onload = () => {\n",
       "            VEGA_DEBUG[key] = version;\n",
       "            return resolve(paths[lib]);\n",
       "          };\n",
       "          s.onerror = () => reject(`Error loading script: ${paths[lib]}`);\n",
       "          s.src = paths[lib];\n",
       "        });\n",
       "    }\n",
       "\n",
       "    function showError(err) {\n",
       "      outputDiv.innerHTML = `<div class=\"error\" style=\"color:red;\">${err}</div>`;\n",
       "      throw err;\n",
       "    }\n",
       "\n",
       "    function displayChart(vegaEmbed) {\n",
       "      vegaEmbed(outputDiv, spec, embedOpt)\n",
       "        .catch(err => showError(`Javascript Error: ${err.message}<br>This usually means there's a typo in your chart specification. See the javascript console for the full traceback.`));\n",
       "    }\n",
       "\n",
       "    if(typeof define === \"function\" && define.amd) {\n",
       "      requirejs.config({paths});\n",
       "      require([\"vega-embed\"], displayChart, err => showError(`Error loading script: ${err.message}`));\n",
       "    } else {\n",
       "      maybeLoadScript(\"vega\", \"5\")\n",
       "        .then(() => maybeLoadScript(\"vega-lite\", \"5.17.0\"))\n",
       "        .then(() => maybeLoadScript(\"vega-embed\", \"6\"))\n",
       "        .catch(showError)\n",
       "        .then(() => displayChart(vegaEmbed));\n",
       "    }\n",
       "  })({\"config\": {\"view\": {\"continuousWidth\": 300, \"continuousHeight\": 300}}, \"data\": {\"name\": \"data-b29881ed6f66ae910f87e39bc37ee80b\"}, \"mark\": {\"type\": \"bar\"}, \"encoding\": {\"color\": {\"condition\": {\"param\": \"param_7\", \"value\": \"steelblue\"}, \"value\": \"lightgray\"}, \"tooltip\": [{\"field\": \"author_name\", \"type\": \"nominal\"}, {\"field\": \"commit_count\", \"type\": \"quantitative\"}], \"x\": {\"field\": \"author_name\", \"sort\": \"-y\", \"type\": \"nominal\"}, \"y\": {\"field\": \"commit_count\", \"type\": \"quantitative\"}}, \"params\": [{\"name\": \"param_7\", \"select\": {\"type\": \"point\", \"fields\": [\"author_name\"]}, \"bind\": \"legend\"}, {\"name\": \"param_8\", \"select\": {\"type\": \"interval\", \"encodings\": [\"x\", \"y\"]}, \"bind\": \"scales\"}], \"title\": \"Top Contributors\", \"$schema\": \"https://vega.github.io/schema/vega-lite/v5.17.0.json\", \"datasets\": {\"data-b29881ed6f66ae910f87e39bc37ee80b\": [{\"author_name\": \"Linus Torvalds\", \"commit_count\": 20776}, {\"author_name\": \"David S. Miller\", \"commit_count\": 7552}, {\"author_name\": \"Mark Brown\", \"commit_count\": 6466}, {\"author_name\": \"H Hartley Sweeten\", \"commit_count\": 5857}, {\"author_name\": \"Mark Otto\", \"commit_count\": 5823}, {\"author_name\": \"Takashi Iwai\", \"commit_count\": 5801}, {\"author_name\": \"Al Viro\", \"commit_count\": 5439}, {\"author_name\": \"Ingo Molnar\", \"commit_count\": 4858}, {\"author_name\": \"Chris Lattner\", \"commit_count\": 4448}, {\"author_name\": \"Mauro Carvalho Chehab\", \"commit_count\": 4043}]}}, {\"mode\": \"vega-lite\"});\n",
       "</script>"
      ],
      "text/plain": [
       "alt.Chart(...)"
      ]
     },
     "metadata": {},
     "output_type": "display_data"
    }
   ],
   "source": [
    "query = \"\"\"\n",
    "SELECT author.name as author_name, COUNT(*) as commit_count\n",
    "FROM `bruin-hiring.github_repos.sample_commits`\n",
    "GROUP BY author_name\n",
    "ORDER BY commit_count DESC\n",
    "LIMIT 10;\n",
    "\"\"\"\n",
    "run_query_and_visualize(query, 'author_name', 'commit_count', chart_type='bar', title='Top Contributors')\n"
   ]
  },
  {
   "cell_type": "markdown",
   "metadata": {},
   "source": [
    "# 3) Developers Contributing to Multiple Repositories\n"
   ]
  },
  {
   "cell_type": "code",
   "execution_count": 34,
   "metadata": {},
   "outputs": [
    {
     "name": "stdout",
     "output_type": "stream",
     "text": [
      "       author_name  repo_count\n",
      "0             Alex           3\n",
      "1       Henry Wong           3\n",
      "2     Prayag Verma           3\n",
      "3       Alex Smith           2\n",
      "4             Dave           2\n",
      "..             ...         ...\n",
      "66         Michael           2\n",
      "67            Nick           2\n",
      "68  Pascal Borreli           2\n",
      "69      Tom Parker           2\n",
      "70           Undo1           2\n",
      "\n",
      "[71 rows x 2 columns]\n"
     ]
    },
    {
     "name": "stderr",
     "output_type": "stream",
     "text": [
      "/Users/yigityavuzyildiz/anaconda3/envs/bruin/lib/python3.11/site-packages/altair/utils/deprecation.py:65: AltairDeprecationWarning: 'selection_multi' is deprecated.  Use 'selection_point'\n",
      "  warnings.warn(message, AltairDeprecationWarning, stacklevel=1)\n",
      "/Users/yigityavuzyildiz/anaconda3/envs/bruin/lib/python3.11/site-packages/altair/utils/deprecation.py:65: AltairDeprecationWarning: 'add_selection' is deprecated. Use 'add_params' instead.\n",
      "  warnings.warn(message, AltairDeprecationWarning, stacklevel=1)\n"
     ]
    },
    {
     "data": {
      "text/html": [
       "\n",
       "<style>\n",
       "  #altair-viz-82453d5f2e4142bc8a01b347d32acc7e.vega-embed {\n",
       "    width: 100%;\n",
       "    display: flex;\n",
       "  }\n",
       "\n",
       "  #altair-viz-82453d5f2e4142bc8a01b347d32acc7e.vega-embed details,\n",
       "  #altair-viz-82453d5f2e4142bc8a01b347d32acc7e.vega-embed details summary {\n",
       "    position: relative;\n",
       "  }\n",
       "</style>\n",
       "<div id=\"altair-viz-82453d5f2e4142bc8a01b347d32acc7e\"></div>\n",
       "<script type=\"text/javascript\">\n",
       "  var VEGA_DEBUG = (typeof VEGA_DEBUG == \"undefined\") ? {} : VEGA_DEBUG;\n",
       "  (function(spec, embedOpt){\n",
       "    let outputDiv = document.currentScript.previousElementSibling;\n",
       "    if (outputDiv.id !== \"altair-viz-82453d5f2e4142bc8a01b347d32acc7e\") {\n",
       "      outputDiv = document.getElementById(\"altair-viz-82453d5f2e4142bc8a01b347d32acc7e\");\n",
       "    }\n",
       "    const paths = {\n",
       "      \"vega\": \"https://cdn.jsdelivr.net/npm/vega@5?noext\",\n",
       "      \"vega-lib\": \"https://cdn.jsdelivr.net/npm/vega-lib?noext\",\n",
       "      \"vega-lite\": \"https://cdn.jsdelivr.net/npm/vega-lite@5.17.0?noext\",\n",
       "      \"vega-embed\": \"https://cdn.jsdelivr.net/npm/vega-embed@6?noext\",\n",
       "    };\n",
       "\n",
       "    function maybeLoadScript(lib, version) {\n",
       "      var key = `${lib.replace(\"-\", \"\")}_version`;\n",
       "      return (VEGA_DEBUG[key] == version) ?\n",
       "        Promise.resolve(paths[lib]) :\n",
       "        new Promise(function(resolve, reject) {\n",
       "          var s = document.createElement('script');\n",
       "          document.getElementsByTagName(\"head\")[0].appendChild(s);\n",
       "          s.async = true;\n",
       "          s.onload = () => {\n",
       "            VEGA_DEBUG[key] = version;\n",
       "            return resolve(paths[lib]);\n",
       "          };\n",
       "          s.onerror = () => reject(`Error loading script: ${paths[lib]}`);\n",
       "          s.src = paths[lib];\n",
       "        });\n",
       "    }\n",
       "\n",
       "    function showError(err) {\n",
       "      outputDiv.innerHTML = `<div class=\"error\" style=\"color:red;\">${err}</div>`;\n",
       "      throw err;\n",
       "    }\n",
       "\n",
       "    function displayChart(vegaEmbed) {\n",
       "      vegaEmbed(outputDiv, spec, embedOpt)\n",
       "        .catch(err => showError(`Javascript Error: ${err.message}<br>This usually means there's a typo in your chart specification. See the javascript console for the full traceback.`));\n",
       "    }\n",
       "\n",
       "    if(typeof define === \"function\" && define.amd) {\n",
       "      requirejs.config({paths});\n",
       "      require([\"vega-embed\"], displayChart, err => showError(`Error loading script: ${err.message}`));\n",
       "    } else {\n",
       "      maybeLoadScript(\"vega\", \"5\")\n",
       "        .then(() => maybeLoadScript(\"vega-lite\", \"5.17.0\"))\n",
       "        .then(() => maybeLoadScript(\"vega-embed\", \"6\"))\n",
       "        .catch(showError)\n",
       "        .then(() => displayChart(vegaEmbed));\n",
       "    }\n",
       "  })({\"config\": {\"view\": {\"continuousWidth\": 300, \"continuousHeight\": 300}}, \"data\": {\"name\": \"data-ec55a0a959fbba9e0164dd2be444e8bb\"}, \"mark\": {\"type\": \"bar\"}, \"encoding\": {\"color\": {\"condition\": {\"param\": \"param_9\", \"value\": \"steelblue\"}, \"value\": \"lightgray\"}, \"tooltip\": [{\"field\": \"author_name\", \"type\": \"nominal\"}, {\"field\": \"repo_count\", \"type\": \"quantitative\"}], \"x\": {\"field\": \"author_name\", \"sort\": \"-y\", \"type\": \"nominal\"}, \"y\": {\"field\": \"repo_count\", \"type\": \"quantitative\"}}, \"params\": [{\"name\": \"param_9\", \"select\": {\"type\": \"point\", \"fields\": [\"author_name\"]}, \"bind\": \"legend\"}, {\"name\": \"param_10\", \"select\": {\"type\": \"interval\", \"encodings\": [\"x\", \"y\"]}, \"bind\": \"scales\"}], \"title\": \"Developers Contributing to Multiple Repositories\", \"$schema\": \"https://vega.github.io/schema/vega-lite/v5.17.0.json\", \"datasets\": {\"data-ec55a0a959fbba9e0164dd2be444e8bb\": [{\"author_name\": \"Alex\", \"repo_count\": 3}, {\"author_name\": \"Henry Wong\", \"repo_count\": 3}, {\"author_name\": \"Prayag Verma\", \"repo_count\": 3}, {\"author_name\": \"Alex Smith\", \"repo_count\": 2}, {\"author_name\": \"Dave\", \"repo_count\": 2}, {\"author_name\": \"Anton Blanchard\", \"repo_count\": 2}, {\"author_name\": \"Saleem Abdulrasool\", \"repo_count\": 2}, {\"author_name\": \"Josh Hunt\", \"repo_count\": 2}, {\"author_name\": \"SeongJae Park\", \"repo_count\": 2}, {\"author_name\": \"Chris Rebert\", \"repo_count\": 2}, {\"author_name\": \"Nik Nyby\", \"repo_count\": 2}, {\"author_name\": \"Basarat Ali Syed\", \"repo_count\": 2}, {\"author_name\": \"Slava Pestov\", \"repo_count\": 2}, {\"author_name\": \"Dan Aloni\", \"repo_count\": 2}, {\"author_name\": \"Chen Yu\", \"repo_count\": 2}, {\"author_name\": \"Greg Roodt\", \"repo_count\": 2}, {\"author_name\": \"Michael Chan\", \"repo_count\": 2}, {\"author_name\": \"iamchenxin\", \"repo_count\": 2}, {\"author_name\": \"Vu Pham\", \"repo_count\": 2}, {\"author_name\": \"Andrey Popp\", \"repo_count\": 2}, {\"author_name\": \"Peter Blazejewicz\", \"repo_count\": 2}, {\"author_name\": \"Alan Wu\", \"repo_count\": 2}, {\"author_name\": \"Bob Wilson\", \"repo_count\": 2}, {\"author_name\": \"Christian\", \"repo_count\": 2}, {\"author_name\": \"Davide Italiano\", \"repo_count\": 2}, {\"author_name\": \"Joshua Anderson\", \"repo_count\": 2}, {\"author_name\": \"Andrew Murray\", \"repo_count\": 2}, {\"author_name\": \"PatrickJS\", \"repo_count\": 2}, {\"author_name\": \"Jody McIntyre\", \"repo_count\": 2}, {\"author_name\": \"Steve Baker\", \"repo_count\": 2}, {\"author_name\": \"Max\", \"repo_count\": 2}, {\"author_name\": \"TJ\", \"repo_count\": 2}, {\"author_name\": \"Russell Currey\", \"repo_count\": 2}, {\"author_name\": \"Richard\", \"repo_count\": 2}, {\"author_name\": \"Luca Wehrstedt\", \"repo_count\": 2}, {\"author_name\": \"Aaron Raimist\", \"repo_count\": 2}, {\"author_name\": \"Mark\", \"repo_count\": 2}, {\"author_name\": \"Max F. Albrecht\", \"repo_count\": 2}, {\"author_name\": \"Kevin Suttle\", \"repo_count\": 2}, {\"author_name\": \"James Friend\", \"repo_count\": 2}, {\"author_name\": \"Matt\", \"repo_count\": 2}, {\"author_name\": \"Brian Campbell\", \"repo_count\": 2}, {\"author_name\": \"M\\u00f4she van der Sterre\", \"repo_count\": 2}, {\"author_name\": \"Eric Thomas\", \"repo_count\": 2}, {\"author_name\": \"Jack Zhang\", \"repo_count\": 2}, {\"author_name\": \"Kevin Robinson\", \"repo_count\": 2}, {\"author_name\": \"John Wright\", \"repo_count\": 2}, {\"author_name\": \"Yan Li\", \"repo_count\": 2}, {\"author_name\": \"Ted Kim\", \"repo_count\": 2}, {\"author_name\": \"Jonathan Persson\", \"repo_count\": 2}, {\"author_name\": \"Justas Brazauskas\", \"repo_count\": 2}, {\"author_name\": \"Baraa Hamodi\", \"repo_count\": 2}, {\"author_name\": \"Meador Inge\", \"repo_count\": 2}, {\"author_name\": \"Kevin Huang\", \"repo_count\": 2}, {\"author_name\": \"Frederic Riss\", \"repo_count\": 2}, {\"author_name\": \"Patrick\", \"repo_count\": 2}, {\"author_name\": \"Daniel Phillips\", \"repo_count\": 2}, {\"author_name\": \"Joe Savage\", \"repo_count\": 2}, {\"author_name\": \"Daniel Man\\u00e9\", \"repo_count\": 2}, {\"author_name\": \"Jason\", \"repo_count\": 2}, {\"author_name\": \"Kevin\", \"repo_count\": 2}, {\"author_name\": \"Karoly Lorentey\", \"repo_count\": 2}, {\"author_name\": \"Jorrit Schippers\", \"repo_count\": 2}, {\"author_name\": \"Ramiro Morales\", \"repo_count\": 2}, {\"author_name\": \"Julian Viereck\", \"repo_count\": 2}, {\"author_name\": \"Michal Srb\", \"repo_count\": 2}, {\"author_name\": \"Michael\", \"repo_count\": 2}, {\"author_name\": \"Nick\", \"repo_count\": 2}, {\"author_name\": \"Pascal Borreli\", \"repo_count\": 2}, {\"author_name\": \"Tom Parker\", \"repo_count\": 2}, {\"author_name\": \"Undo1\", \"repo_count\": 2}]}}, {\"mode\": \"vega-lite\"});\n",
       "</script>"
      ],
      "text/plain": [
       "alt.Chart(...)"
      ]
     },
     "metadata": {},
     "output_type": "display_data"
    }
   ],
   "source": [
    "query = \"\"\"\n",
    "SELECT author.name as author_name, COUNT(DISTINCT repo_name) as repo_count\n",
    "FROM `bruin-hiring.github_repos.sample_commits`\n",
    "GROUP BY author_name\n",
    "HAVING repo_count > 1\n",
    "ORDER BY repo_count DESC;\n",
    "\"\"\"\n",
    "run_query_and_visualize(query, 'author_name', 'repo_count', chart_type='bar', title='Developers Contributing to Multiple Repositories')\n"
   ]
  },
  {
   "cell_type": "markdown",
   "metadata": {},
   "source": [
    "# 4) Most Popular Email Domains\n"
   ]
  },
  {
   "cell_type": "code",
   "execution_count": 35,
   "metadata": {},
   "outputs": [
    {
     "name": "stdout",
     "output_type": "stream",
     "text": [
      "                 domain  commit_count\n",
      "0             gmail.com         69448\n",
      "1            redhat.com         34908\n",
      "2             apple.com         33919\n",
      "3             intel.com         33910\n",
      "4  linux-foundation.org         18684\n",
      "5               suse.de         14575\n",
      "6            linaro.org         13556\n",
      "7                ti.com         10981\n",
      "8           samsung.com         10682\n",
      "9       linux.intel.com         10241\n"
     ]
    },
    {
     "name": "stderr",
     "output_type": "stream",
     "text": [
      "/Users/yigityavuzyildiz/anaconda3/envs/bruin/lib/python3.11/site-packages/altair/utils/deprecation.py:65: AltairDeprecationWarning: 'selection_multi' is deprecated.  Use 'selection_point'\n",
      "  warnings.warn(message, AltairDeprecationWarning, stacklevel=1)\n",
      "/Users/yigityavuzyildiz/anaconda3/envs/bruin/lib/python3.11/site-packages/altair/utils/deprecation.py:65: AltairDeprecationWarning: 'add_selection' is deprecated. Use 'add_params' instead.\n",
      "  warnings.warn(message, AltairDeprecationWarning, stacklevel=1)\n"
     ]
    },
    {
     "data": {
      "text/html": [
       "\n",
       "<style>\n",
       "  #altair-viz-455dd90b58a94657863bc874afa9f872.vega-embed {\n",
       "    width: 100%;\n",
       "    display: flex;\n",
       "  }\n",
       "\n",
       "  #altair-viz-455dd90b58a94657863bc874afa9f872.vega-embed details,\n",
       "  #altair-viz-455dd90b58a94657863bc874afa9f872.vega-embed details summary {\n",
       "    position: relative;\n",
       "  }\n",
       "</style>\n",
       "<div id=\"altair-viz-455dd90b58a94657863bc874afa9f872\"></div>\n",
       "<script type=\"text/javascript\">\n",
       "  var VEGA_DEBUG = (typeof VEGA_DEBUG == \"undefined\") ? {} : VEGA_DEBUG;\n",
       "  (function(spec, embedOpt){\n",
       "    let outputDiv = document.currentScript.previousElementSibling;\n",
       "    if (outputDiv.id !== \"altair-viz-455dd90b58a94657863bc874afa9f872\") {\n",
       "      outputDiv = document.getElementById(\"altair-viz-455dd90b58a94657863bc874afa9f872\");\n",
       "    }\n",
       "    const paths = {\n",
       "      \"vega\": \"https://cdn.jsdelivr.net/npm/vega@5?noext\",\n",
       "      \"vega-lib\": \"https://cdn.jsdelivr.net/npm/vega-lib?noext\",\n",
       "      \"vega-lite\": \"https://cdn.jsdelivr.net/npm/vega-lite@5.17.0?noext\",\n",
       "      \"vega-embed\": \"https://cdn.jsdelivr.net/npm/vega-embed@6?noext\",\n",
       "    };\n",
       "\n",
       "    function maybeLoadScript(lib, version) {\n",
       "      var key = `${lib.replace(\"-\", \"\")}_version`;\n",
       "      return (VEGA_DEBUG[key] == version) ?\n",
       "        Promise.resolve(paths[lib]) :\n",
       "        new Promise(function(resolve, reject) {\n",
       "          var s = document.createElement('script');\n",
       "          document.getElementsByTagName(\"head\")[0].appendChild(s);\n",
       "          s.async = true;\n",
       "          s.onload = () => {\n",
       "            VEGA_DEBUG[key] = version;\n",
       "            return resolve(paths[lib]);\n",
       "          };\n",
       "          s.onerror = () => reject(`Error loading script: ${paths[lib]}`);\n",
       "          s.src = paths[lib];\n",
       "        });\n",
       "    }\n",
       "\n",
       "    function showError(err) {\n",
       "      outputDiv.innerHTML = `<div class=\"error\" style=\"color:red;\">${err}</div>`;\n",
       "      throw err;\n",
       "    }\n",
       "\n",
       "    function displayChart(vegaEmbed) {\n",
       "      vegaEmbed(outputDiv, spec, embedOpt)\n",
       "        .catch(err => showError(`Javascript Error: ${err.message}<br>This usually means there's a typo in your chart specification. See the javascript console for the full traceback.`));\n",
       "    }\n",
       "\n",
       "    if(typeof define === \"function\" && define.amd) {\n",
       "      requirejs.config({paths});\n",
       "      require([\"vega-embed\"], displayChart, err => showError(`Error loading script: ${err.message}`));\n",
       "    } else {\n",
       "      maybeLoadScript(\"vega\", \"5\")\n",
       "        .then(() => maybeLoadScript(\"vega-lite\", \"5.17.0\"))\n",
       "        .then(() => maybeLoadScript(\"vega-embed\", \"6\"))\n",
       "        .catch(showError)\n",
       "        .then(() => displayChart(vegaEmbed));\n",
       "    }\n",
       "  })({\"config\": {\"view\": {\"continuousWidth\": 300, \"continuousHeight\": 300}}, \"data\": {\"name\": \"data-9b31737d8c2d53c4c3752955106eab9a\"}, \"mark\": {\"type\": \"bar\"}, \"encoding\": {\"color\": {\"condition\": {\"param\": \"param_11\", \"value\": \"steelblue\"}, \"value\": \"lightgray\"}, \"tooltip\": [{\"field\": \"domain\", \"type\": \"nominal\"}, {\"field\": \"commit_count\", \"type\": \"quantitative\"}], \"x\": {\"field\": \"domain\", \"sort\": \"-y\", \"type\": \"nominal\"}, \"y\": {\"field\": \"commit_count\", \"type\": \"quantitative\"}}, \"params\": [{\"name\": \"param_11\", \"select\": {\"type\": \"point\", \"fields\": [\"domain\"]}, \"bind\": \"legend\"}, {\"name\": \"param_12\", \"select\": {\"type\": \"interval\", \"encodings\": [\"x\", \"y\"]}, \"bind\": \"scales\"}], \"title\": \"Most Popular Email Domains\", \"$schema\": \"https://vega.github.io/schema/vega-lite/v5.17.0.json\", \"datasets\": {\"data-9b31737d8c2d53c4c3752955106eab9a\": [{\"domain\": \"gmail.com\", \"commit_count\": 69448}, {\"domain\": \"redhat.com\", \"commit_count\": 34908}, {\"domain\": \"apple.com\", \"commit_count\": 33919}, {\"domain\": \"intel.com\", \"commit_count\": 33910}, {\"domain\": \"linux-foundation.org\", \"commit_count\": 18684}, {\"domain\": \"suse.de\", \"commit_count\": 14575}, {\"domain\": \"linaro.org\", \"commit_count\": 13556}, {\"domain\": \"ti.com\", \"commit_count\": 10981}, {\"domain\": \"samsung.com\", \"commit_count\": 10682}, {\"domain\": \"linux.intel.com\", \"commit_count\": 10241}]}}, {\"mode\": \"vega-lite\"});\n",
       "</script>"
      ],
      "text/plain": [
       "alt.Chart(...)"
      ]
     },
     "metadata": {},
     "output_type": "display_data"
    }
   ],
   "source": [
    "query = \"\"\"\n",
    "SELECT SPLIT(author.email, '@')[SAFE_OFFSET(1)] as domain, COUNT(*) as commit_count\n",
    "FROM `bruin-hiring.github_repos.sample_commits`\n",
    "GROUP BY domain\n",
    "ORDER BY commit_count DESC\n",
    "LIMIT 10;\n",
    "\"\"\"\n",
    "run_query_and_visualize(query, 'domain', 'commit_count', chart_type='bar', title='Most Popular Email Domains')\n"
   ]
  },
  {
   "cell_type": "markdown",
   "metadata": {},
   "source": [
    "# 5) Number of Commits Per Day\n"
   ]
  },
  {
   "cell_type": "code",
   "execution_count": 47,
   "metadata": {},
   "outputs": [
    {
     "name": "stdout",
     "output_type": "stream",
     "text": [
      "     commit_date  commit_count\n",
      "0     2005-04-16           199\n",
      "1     2005-04-17            21\n",
      "2     2005-04-18            39\n",
      "3     2005-04-19            70\n",
      "4     2005-04-20            11\n",
      "...          ...           ...\n",
      "4064  2016-06-18            43\n",
      "4065  2016-06-19            58\n",
      "4066  2016-06-20           113\n",
      "4067  2016-06-21           142\n",
      "4068  2016-06-22           108\n",
      "\n",
      "[4069 rows x 2 columns]\n"
     ]
    },
    {
     "name": "stderr",
     "output_type": "stream",
     "text": [
      "/Users/yigityavuzyildiz/anaconda3/envs/bruin/lib/python3.11/site-packages/altair/utils/deprecation.py:65: AltairDeprecationWarning: 'selection_multi' is deprecated.  Use 'selection_point'\n",
      "  warnings.warn(message, AltairDeprecationWarning, stacklevel=1)\n"
     ]
    },
    {
     "ename": "TypeError",
     "evalue": "Object of type date is not JSON serializable",
     "output_type": "error",
     "traceback": [
      "\u001b[0;31m---------------------------------------------------------------------------\u001b[0m",
      "\u001b[0;31mTypeError\u001b[0m                                 Traceback (most recent call last)",
      "File \u001b[0;32m~/anaconda3/envs/bruin/lib/python3.11/site-packages/IPython/core/formatters.py:977\u001b[0m, in \u001b[0;36mMimeBundleFormatter.__call__\u001b[0;34m(self, obj, include, exclude)\u001b[0m\n\u001b[1;32m    974\u001b[0m     method \u001b[38;5;241m=\u001b[39m get_real_method(obj, \u001b[38;5;28mself\u001b[39m\u001b[38;5;241m.\u001b[39mprint_method)\n\u001b[1;32m    976\u001b[0m     \u001b[38;5;28;01mif\u001b[39;00m method \u001b[38;5;129;01mis\u001b[39;00m \u001b[38;5;129;01mnot\u001b[39;00m \u001b[38;5;28;01mNone\u001b[39;00m:\n\u001b[0;32m--> 977\u001b[0m         \u001b[38;5;28;01mreturn\u001b[39;00m \u001b[43mmethod\u001b[49m\u001b[43m(\u001b[49m\u001b[43minclude\u001b[49m\u001b[38;5;241;43m=\u001b[39;49m\u001b[43minclude\u001b[49m\u001b[43m,\u001b[49m\u001b[43m \u001b[49m\u001b[43mexclude\u001b[49m\u001b[38;5;241;43m=\u001b[39;49m\u001b[43mexclude\u001b[49m\u001b[43m)\u001b[49m\n\u001b[1;32m    978\u001b[0m     \u001b[38;5;28;01mreturn\u001b[39;00m \u001b[38;5;28;01mNone\u001b[39;00m\n\u001b[1;32m    979\u001b[0m \u001b[38;5;28;01melse\u001b[39;00m:\n",
      "File \u001b[0;32m~/anaconda3/envs/bruin/lib/python3.11/site-packages/altair/vegalite/v5/api.py:2576\u001b[0m, in \u001b[0;36mTopLevelMixin._repr_mimebundle_\u001b[0;34m(self, include, exclude)\u001b[0m\n\u001b[1;32m   2574\u001b[0m     \u001b[38;5;28;01mreturn\u001b[39;00m {}\n\u001b[1;32m   2575\u001b[0m \u001b[38;5;28;01melse\u001b[39;00m:\n\u001b[0;32m-> 2576\u001b[0m     \u001b[38;5;28;01mreturn\u001b[39;00m \u001b[43mrenderers\u001b[49m\u001b[38;5;241;43m.\u001b[39;49m\u001b[43mget\u001b[49m\u001b[43m(\u001b[49m\u001b[43m)\u001b[49m\u001b[43m(\u001b[49m\u001b[43mdct\u001b[49m\u001b[43m)\u001b[49m\n",
      "File \u001b[0;32m~/anaconda3/envs/bruin/lib/python3.11/site-packages/altair/utils/display.py:227\u001b[0m, in \u001b[0;36mHTMLRenderer.__call__\u001b[0;34m(self, spec, **metadata)\u001b[0m\n\u001b[1;32m    224\u001b[0m kwargs\u001b[38;5;241m.\u001b[39mupdate(metadata)\n\u001b[1;32m    225\u001b[0m \u001b[38;5;66;03m# To get proper return value type, would need to write complex\u001b[39;00m\n\u001b[1;32m    226\u001b[0m \u001b[38;5;66;03m# overload signatures for spec_to_mimebundle based on `format`\u001b[39;00m\n\u001b[0;32m--> 227\u001b[0m \u001b[38;5;28;01mreturn\u001b[39;00m \u001b[43mspec_to_mimebundle\u001b[49m\u001b[43m(\u001b[49m\u001b[43m  \u001b[49m\u001b[38;5;66;43;03m# type: ignore[return-value]\u001b[39;49;00m\n\u001b[1;32m    228\u001b[0m \u001b[43m    \u001b[49m\u001b[43mspec\u001b[49m\u001b[43m,\u001b[49m\u001b[43m \u001b[49m\u001b[38;5;28;43mformat\u001b[39;49m\u001b[38;5;241;43m=\u001b[39;49m\u001b[38;5;124;43m\"\u001b[39;49m\u001b[38;5;124;43mhtml\u001b[39;49m\u001b[38;5;124;43m\"\u001b[39;49m\u001b[43m,\u001b[49m\u001b[43m \u001b[49m\u001b[43moutput_div\u001b[49m\u001b[38;5;241;43m=\u001b[39;49m\u001b[38;5;28;43mself\u001b[39;49m\u001b[38;5;241;43m.\u001b[39;49m\u001b[43moutput_div\u001b[49m\u001b[43m,\u001b[49m\u001b[43m \u001b[49m\u001b[38;5;241;43m*\u001b[39;49m\u001b[38;5;241;43m*\u001b[39;49m\u001b[43mkwargs\u001b[49m\n\u001b[1;32m    229\u001b[0m \u001b[43m\u001b[49m\u001b[43m)\u001b[49m\n",
      "File \u001b[0;32m~/anaconda3/envs/bruin/lib/python3.11/site-packages/altair/utils/mimebundle.py:93\u001b[0m, in \u001b[0;36mspec_to_mimebundle\u001b[0;34m(spec, format, mode, vega_version, vegaembed_version, vegalite_version, embed_options, engine, **kwargs)\u001b[0m\n\u001b[1;32m     83\u001b[0m     \u001b[38;5;28;01mreturn\u001b[39;00m _spec_to_mimebundle_with_engine(\n\u001b[1;32m     84\u001b[0m         spec,\n\u001b[1;32m     85\u001b[0m         \u001b[38;5;28mformat\u001b[39m,\n\u001b[0;32m   (...)\u001b[0m\n\u001b[1;32m     90\u001b[0m         \u001b[38;5;241m*\u001b[39m\u001b[38;5;241m*\u001b[39mkwargs,\n\u001b[1;32m     91\u001b[0m     )\n\u001b[1;32m     92\u001b[0m \u001b[38;5;28;01mif\u001b[39;00m \u001b[38;5;28mformat\u001b[39m \u001b[38;5;241m==\u001b[39m \u001b[38;5;124m\"\u001b[39m\u001b[38;5;124mhtml\u001b[39m\u001b[38;5;124m\"\u001b[39m:\n\u001b[0;32m---> 93\u001b[0m     html \u001b[38;5;241m=\u001b[39m \u001b[43mspec_to_html\u001b[49m\u001b[43m(\u001b[49m\n\u001b[1;32m     94\u001b[0m \u001b[43m        \u001b[49m\u001b[43mspec\u001b[49m\u001b[43m,\u001b[49m\n\u001b[1;32m     95\u001b[0m \u001b[43m        \u001b[49m\u001b[43mmode\u001b[49m\u001b[38;5;241;43m=\u001b[39;49m\u001b[43minternal_mode\u001b[49m\u001b[43m,\u001b[49m\n\u001b[1;32m     96\u001b[0m \u001b[43m        \u001b[49m\u001b[43mvega_version\u001b[49m\u001b[38;5;241;43m=\u001b[39;49m\u001b[43mvega_version\u001b[49m\u001b[43m,\u001b[49m\n\u001b[1;32m     97\u001b[0m \u001b[43m        \u001b[49m\u001b[43mvegaembed_version\u001b[49m\u001b[38;5;241;43m=\u001b[39;49m\u001b[43mvegaembed_version\u001b[49m\u001b[43m,\u001b[49m\n\u001b[1;32m     98\u001b[0m \u001b[43m        \u001b[49m\u001b[43mvegalite_version\u001b[49m\u001b[38;5;241;43m=\u001b[39;49m\u001b[43mvegalite_version\u001b[49m\u001b[43m,\u001b[49m\n\u001b[1;32m     99\u001b[0m \u001b[43m        \u001b[49m\u001b[43membed_options\u001b[49m\u001b[38;5;241;43m=\u001b[39;49m\u001b[43membed_options\u001b[49m\u001b[43m,\u001b[49m\n\u001b[1;32m    100\u001b[0m \u001b[43m        \u001b[49m\u001b[38;5;241;43m*\u001b[39;49m\u001b[38;5;241;43m*\u001b[39;49m\u001b[43mkwargs\u001b[49m\u001b[43m,\u001b[49m\n\u001b[1;32m    101\u001b[0m \u001b[43m    \u001b[49m\u001b[43m)\u001b[49m\n\u001b[1;32m    102\u001b[0m     \u001b[38;5;28;01mreturn\u001b[39;00m {\u001b[38;5;124m\"\u001b[39m\u001b[38;5;124mtext/html\u001b[39m\u001b[38;5;124m\"\u001b[39m: html}\n\u001b[1;32m    103\u001b[0m \u001b[38;5;28;01mif\u001b[39;00m \u001b[38;5;28mformat\u001b[39m \u001b[38;5;241m==\u001b[39m \u001b[38;5;124m\"\u001b[39m\u001b[38;5;124mvega-lite\u001b[39m\u001b[38;5;124m\"\u001b[39m:\n",
      "File \u001b[0;32m~/anaconda3/envs/bruin/lib/python3.11/site-packages/altair/utils/html.py:292\u001b[0m, in \u001b[0;36mspec_to_html\u001b[0;34m(spec, mode, vega_version, vegaembed_version, vegalite_version, base_url, output_div, embed_options, json_kwds, fullhtml, requirejs, template)\u001b[0m\n\u001b[1;32m    288\u001b[0m \u001b[38;5;28;01mif\u001b[39;00m \u001b[38;5;129;01mnot\u001b[39;00m \u001b[38;5;28mhasattr\u001b[39m(jinja_template, \u001b[38;5;124m\"\u001b[39m\u001b[38;5;124mrender\u001b[39m\u001b[38;5;124m\"\u001b[39m):\n\u001b[1;32m    289\u001b[0m     \u001b[38;5;28;01mraise\u001b[39;00m \u001b[38;5;167;01mValueError\u001b[39;00m(\u001b[38;5;124m\"\u001b[39m\u001b[38;5;124mInvalid template: \u001b[39m\u001b[38;5;132;01m{0}\u001b[39;00m\u001b[38;5;124m\"\u001b[39m\u001b[38;5;241m.\u001b[39mformat(jinja_template))\n\u001b[1;32m    291\u001b[0m \u001b[38;5;28;01mreturn\u001b[39;00m jinja_template\u001b[38;5;241m.\u001b[39mrender(\n\u001b[0;32m--> 292\u001b[0m     spec\u001b[38;5;241m=\u001b[39m\u001b[43mjson\u001b[49m\u001b[38;5;241;43m.\u001b[39;49m\u001b[43mdumps\u001b[49m\u001b[43m(\u001b[49m\u001b[43mspec\u001b[49m\u001b[43m,\u001b[49m\u001b[43m \u001b[49m\u001b[38;5;241;43m*\u001b[39;49m\u001b[38;5;241;43m*\u001b[39;49m\u001b[43mjson_kwds\u001b[49m\u001b[43m)\u001b[49m,\n\u001b[1;32m    293\u001b[0m     embed_options\u001b[38;5;241m=\u001b[39mjson\u001b[38;5;241m.\u001b[39mdumps(embed_options),\n\u001b[1;32m    294\u001b[0m     mode\u001b[38;5;241m=\u001b[39mmode,\n\u001b[1;32m    295\u001b[0m     vega_version\u001b[38;5;241m=\u001b[39mvega_version,\n\u001b[1;32m    296\u001b[0m     vegalite_version\u001b[38;5;241m=\u001b[39mvegalite_version,\n\u001b[1;32m    297\u001b[0m     vegaembed_version\u001b[38;5;241m=\u001b[39mvegaembed_version,\n\u001b[1;32m    298\u001b[0m     base_url\u001b[38;5;241m=\u001b[39mbase_url,\n\u001b[1;32m    299\u001b[0m     output_div\u001b[38;5;241m=\u001b[39moutput_div,\n\u001b[1;32m    300\u001b[0m     fullhtml\u001b[38;5;241m=\u001b[39mfullhtml,\n\u001b[1;32m    301\u001b[0m     requirejs\u001b[38;5;241m=\u001b[39mrequirejs,\n\u001b[1;32m    302\u001b[0m     \u001b[38;5;241m*\u001b[39m\u001b[38;5;241m*\u001b[39mrender_kwargs,\n\u001b[1;32m    303\u001b[0m )\n",
      "File \u001b[0;32m~/anaconda3/envs/bruin/lib/python3.11/json/__init__.py:231\u001b[0m, in \u001b[0;36mdumps\u001b[0;34m(obj, skipkeys, ensure_ascii, check_circular, allow_nan, cls, indent, separators, default, sort_keys, **kw)\u001b[0m\n\u001b[1;32m    226\u001b[0m \u001b[38;5;66;03m# cached encoder\u001b[39;00m\n\u001b[1;32m    227\u001b[0m \u001b[38;5;28;01mif\u001b[39;00m (\u001b[38;5;129;01mnot\u001b[39;00m skipkeys \u001b[38;5;129;01mand\u001b[39;00m ensure_ascii \u001b[38;5;129;01mand\u001b[39;00m\n\u001b[1;32m    228\u001b[0m     check_circular \u001b[38;5;129;01mand\u001b[39;00m allow_nan \u001b[38;5;129;01mand\u001b[39;00m\n\u001b[1;32m    229\u001b[0m     \u001b[38;5;28mcls\u001b[39m \u001b[38;5;129;01mis\u001b[39;00m \u001b[38;5;28;01mNone\u001b[39;00m \u001b[38;5;129;01mand\u001b[39;00m indent \u001b[38;5;129;01mis\u001b[39;00m \u001b[38;5;28;01mNone\u001b[39;00m \u001b[38;5;129;01mand\u001b[39;00m separators \u001b[38;5;129;01mis\u001b[39;00m \u001b[38;5;28;01mNone\u001b[39;00m \u001b[38;5;129;01mand\u001b[39;00m\n\u001b[1;32m    230\u001b[0m     default \u001b[38;5;129;01mis\u001b[39;00m \u001b[38;5;28;01mNone\u001b[39;00m \u001b[38;5;129;01mand\u001b[39;00m \u001b[38;5;129;01mnot\u001b[39;00m sort_keys \u001b[38;5;129;01mand\u001b[39;00m \u001b[38;5;129;01mnot\u001b[39;00m kw):\n\u001b[0;32m--> 231\u001b[0m     \u001b[38;5;28;01mreturn\u001b[39;00m \u001b[43m_default_encoder\u001b[49m\u001b[38;5;241;43m.\u001b[39;49m\u001b[43mencode\u001b[49m\u001b[43m(\u001b[49m\u001b[43mobj\u001b[49m\u001b[43m)\u001b[49m\n\u001b[1;32m    232\u001b[0m \u001b[38;5;28;01mif\u001b[39;00m \u001b[38;5;28mcls\u001b[39m \u001b[38;5;129;01mis\u001b[39;00m \u001b[38;5;28;01mNone\u001b[39;00m:\n\u001b[1;32m    233\u001b[0m     \u001b[38;5;28mcls\u001b[39m \u001b[38;5;241m=\u001b[39m JSONEncoder\n",
      "File \u001b[0;32m~/anaconda3/envs/bruin/lib/python3.11/json/encoder.py:200\u001b[0m, in \u001b[0;36mJSONEncoder.encode\u001b[0;34m(self, o)\u001b[0m\n\u001b[1;32m    196\u001b[0m         \u001b[38;5;28;01mreturn\u001b[39;00m encode_basestring(o)\n\u001b[1;32m    197\u001b[0m \u001b[38;5;66;03m# This doesn't pass the iterator directly to ''.join() because the\u001b[39;00m\n\u001b[1;32m    198\u001b[0m \u001b[38;5;66;03m# exceptions aren't as detailed.  The list call should be roughly\u001b[39;00m\n\u001b[1;32m    199\u001b[0m \u001b[38;5;66;03m# equivalent to the PySequence_Fast that ''.join() would do.\u001b[39;00m\n\u001b[0;32m--> 200\u001b[0m chunks \u001b[38;5;241m=\u001b[39m \u001b[38;5;28;43mself\u001b[39;49m\u001b[38;5;241;43m.\u001b[39;49m\u001b[43miterencode\u001b[49m\u001b[43m(\u001b[49m\u001b[43mo\u001b[49m\u001b[43m,\u001b[49m\u001b[43m \u001b[49m\u001b[43m_one_shot\u001b[49m\u001b[38;5;241;43m=\u001b[39;49m\u001b[38;5;28;43;01mTrue\u001b[39;49;00m\u001b[43m)\u001b[49m\n\u001b[1;32m    201\u001b[0m \u001b[38;5;28;01mif\u001b[39;00m \u001b[38;5;129;01mnot\u001b[39;00m \u001b[38;5;28misinstance\u001b[39m(chunks, (\u001b[38;5;28mlist\u001b[39m, \u001b[38;5;28mtuple\u001b[39m)):\n\u001b[1;32m    202\u001b[0m     chunks \u001b[38;5;241m=\u001b[39m \u001b[38;5;28mlist\u001b[39m(chunks)\n",
      "File \u001b[0;32m~/anaconda3/envs/bruin/lib/python3.11/json/encoder.py:258\u001b[0m, in \u001b[0;36mJSONEncoder.iterencode\u001b[0;34m(self, o, _one_shot)\u001b[0m\n\u001b[1;32m    253\u001b[0m \u001b[38;5;28;01melse\u001b[39;00m:\n\u001b[1;32m    254\u001b[0m     _iterencode \u001b[38;5;241m=\u001b[39m _make_iterencode(\n\u001b[1;32m    255\u001b[0m         markers, \u001b[38;5;28mself\u001b[39m\u001b[38;5;241m.\u001b[39mdefault, _encoder, \u001b[38;5;28mself\u001b[39m\u001b[38;5;241m.\u001b[39mindent, floatstr,\n\u001b[1;32m    256\u001b[0m         \u001b[38;5;28mself\u001b[39m\u001b[38;5;241m.\u001b[39mkey_separator, \u001b[38;5;28mself\u001b[39m\u001b[38;5;241m.\u001b[39mitem_separator, \u001b[38;5;28mself\u001b[39m\u001b[38;5;241m.\u001b[39msort_keys,\n\u001b[1;32m    257\u001b[0m         \u001b[38;5;28mself\u001b[39m\u001b[38;5;241m.\u001b[39mskipkeys, _one_shot)\n\u001b[0;32m--> 258\u001b[0m \u001b[38;5;28;01mreturn\u001b[39;00m \u001b[43m_iterencode\u001b[49m\u001b[43m(\u001b[49m\u001b[43mo\u001b[49m\u001b[43m,\u001b[49m\u001b[43m \u001b[49m\u001b[38;5;241;43m0\u001b[39;49m\u001b[43m)\u001b[49m\n",
      "File \u001b[0;32m~/anaconda3/envs/bruin/lib/python3.11/json/encoder.py:180\u001b[0m, in \u001b[0;36mJSONEncoder.default\u001b[0;34m(self, o)\u001b[0m\n\u001b[1;32m    161\u001b[0m \u001b[38;5;28;01mdef\u001b[39;00m \u001b[38;5;21mdefault\u001b[39m(\u001b[38;5;28mself\u001b[39m, o):\n\u001b[1;32m    162\u001b[0m \u001b[38;5;250m    \u001b[39m\u001b[38;5;124;03m\"\"\"Implement this method in a subclass such that it returns\u001b[39;00m\n\u001b[1;32m    163\u001b[0m \u001b[38;5;124;03m    a serializable object for ``o``, or calls the base implementation\u001b[39;00m\n\u001b[1;32m    164\u001b[0m \u001b[38;5;124;03m    (to raise a ``TypeError``).\u001b[39;00m\n\u001b[0;32m   (...)\u001b[0m\n\u001b[1;32m    178\u001b[0m \n\u001b[1;32m    179\u001b[0m \u001b[38;5;124;03m    \"\"\"\u001b[39;00m\n\u001b[0;32m--> 180\u001b[0m     \u001b[38;5;28;01mraise\u001b[39;00m \u001b[38;5;167;01mTypeError\u001b[39;00m(\u001b[38;5;124mf\u001b[39m\u001b[38;5;124m'\u001b[39m\u001b[38;5;124mObject of type \u001b[39m\u001b[38;5;132;01m{\u001b[39;00mo\u001b[38;5;241m.\u001b[39m\u001b[38;5;18m__class__\u001b[39m\u001b[38;5;241m.\u001b[39m\u001b[38;5;18m__name__\u001b[39m\u001b[38;5;132;01m}\u001b[39;00m\u001b[38;5;124m \u001b[39m\u001b[38;5;124m'\u001b[39m\n\u001b[1;32m    181\u001b[0m                     \u001b[38;5;124mf\u001b[39m\u001b[38;5;124m'\u001b[39m\u001b[38;5;124mis not JSON serializable\u001b[39m\u001b[38;5;124m'\u001b[39m)\n",
      "\u001b[0;31mTypeError\u001b[0m: Object of type date is not JSON serializable"
     ]
    },
    {
     "data": {
      "text/plain": [
       "alt.Chart(...)"
      ]
     },
     "metadata": {},
     "output_type": "display_data"
    }
   ],
   "source": [
    "query = \"\"\"\n",
    "SELECT DATE(committer.date) as commit_date, COUNT(*) as commit_count\n",
    "FROM `bruin-hiring.github_repos.sample_commits`\n",
    "GROUP BY commit_date\n",
    "ORDER BY commit_date;\n",
    "\"\"\"\n",
    "run_query_and_visualize(query, 'commit_date', 'commit_count', chart_type='line', title='Number of Commits Per Day')\n"
   ]
  },
  {
   "cell_type": "markdown",
   "metadata": {},
   "source": [
    "# 6) Number of Commits Per Weekday\n"
   ]
  },
  {
   "cell_type": "code",
   "execution_count": 37,
   "metadata": {},
   "outputs": [
    {
     "name": "stdout",
     "output_type": "stream",
     "text": [
      "     weekday  commit_count\n",
      "0    Tuesday        121674\n",
      "1  Wednesday        120722\n",
      "2     Monday        115061\n",
      "3   Thursday        114669\n",
      "4     Friday        112297\n",
      "5   Saturday         44814\n",
      "6     Sunday         43072\n"
     ]
    },
    {
     "name": "stderr",
     "output_type": "stream",
     "text": [
      "/Users/yigityavuzyildiz/anaconda3/envs/bruin/lib/python3.11/site-packages/altair/utils/deprecation.py:65: AltairDeprecationWarning: 'selection_multi' is deprecated.  Use 'selection_point'\n",
      "  warnings.warn(message, AltairDeprecationWarning, stacklevel=1)\n",
      "/Users/yigityavuzyildiz/anaconda3/envs/bruin/lib/python3.11/site-packages/altair/utils/deprecation.py:65: AltairDeprecationWarning: 'add_selection' is deprecated. Use 'add_params' instead.\n",
      "  warnings.warn(message, AltairDeprecationWarning, stacklevel=1)\n"
     ]
    },
    {
     "data": {
      "text/html": [
       "\n",
       "<style>\n",
       "  #altair-viz-872c00f226544a7dbaee42030779b9fa.vega-embed {\n",
       "    width: 100%;\n",
       "    display: flex;\n",
       "  }\n",
       "\n",
       "  #altair-viz-872c00f226544a7dbaee42030779b9fa.vega-embed details,\n",
       "  #altair-viz-872c00f226544a7dbaee42030779b9fa.vega-embed details summary {\n",
       "    position: relative;\n",
       "  }\n",
       "</style>\n",
       "<div id=\"altair-viz-872c00f226544a7dbaee42030779b9fa\"></div>\n",
       "<script type=\"text/javascript\">\n",
       "  var VEGA_DEBUG = (typeof VEGA_DEBUG == \"undefined\") ? {} : VEGA_DEBUG;\n",
       "  (function(spec, embedOpt){\n",
       "    let outputDiv = document.currentScript.previousElementSibling;\n",
       "    if (outputDiv.id !== \"altair-viz-872c00f226544a7dbaee42030779b9fa\") {\n",
       "      outputDiv = document.getElementById(\"altair-viz-872c00f226544a7dbaee42030779b9fa\");\n",
       "    }\n",
       "    const paths = {\n",
       "      \"vega\": \"https://cdn.jsdelivr.net/npm/vega@5?noext\",\n",
       "      \"vega-lib\": \"https://cdn.jsdelivr.net/npm/vega-lib?noext\",\n",
       "      \"vega-lite\": \"https://cdn.jsdelivr.net/npm/vega-lite@5.17.0?noext\",\n",
       "      \"vega-embed\": \"https://cdn.jsdelivr.net/npm/vega-embed@6?noext\",\n",
       "    };\n",
       "\n",
       "    function maybeLoadScript(lib, version) {\n",
       "      var key = `${lib.replace(\"-\", \"\")}_version`;\n",
       "      return (VEGA_DEBUG[key] == version) ?\n",
       "        Promise.resolve(paths[lib]) :\n",
       "        new Promise(function(resolve, reject) {\n",
       "          var s = document.createElement('script');\n",
       "          document.getElementsByTagName(\"head\")[0].appendChild(s);\n",
       "          s.async = true;\n",
       "          s.onload = () => {\n",
       "            VEGA_DEBUG[key] = version;\n",
       "            return resolve(paths[lib]);\n",
       "          };\n",
       "          s.onerror = () => reject(`Error loading script: ${paths[lib]}`);\n",
       "          s.src = paths[lib];\n",
       "        });\n",
       "    }\n",
       "\n",
       "    function showError(err) {\n",
       "      outputDiv.innerHTML = `<div class=\"error\" style=\"color:red;\">${err}</div>`;\n",
       "      throw err;\n",
       "    }\n",
       "\n",
       "    function displayChart(vegaEmbed) {\n",
       "      vegaEmbed(outputDiv, spec, embedOpt)\n",
       "        .catch(err => showError(`Javascript Error: ${err.message}<br>This usually means there's a typo in your chart specification. See the javascript console for the full traceback.`));\n",
       "    }\n",
       "\n",
       "    if(typeof define === \"function\" && define.amd) {\n",
       "      requirejs.config({paths});\n",
       "      require([\"vega-embed\"], displayChart, err => showError(`Error loading script: ${err.message}`));\n",
       "    } else {\n",
       "      maybeLoadScript(\"vega\", \"5\")\n",
       "        .then(() => maybeLoadScript(\"vega-lite\", \"5.17.0\"))\n",
       "        .then(() => maybeLoadScript(\"vega-embed\", \"6\"))\n",
       "        .catch(showError)\n",
       "        .then(() => displayChart(vegaEmbed));\n",
       "    }\n",
       "  })({\"config\": {\"view\": {\"continuousWidth\": 300, \"continuousHeight\": 300}}, \"data\": {\"name\": \"data-889384056f78f0ad334199a27cbd976f\"}, \"mark\": {\"type\": \"bar\"}, \"encoding\": {\"color\": {\"condition\": {\"param\": \"param_15\", \"value\": \"steelblue\"}, \"value\": \"lightgray\"}, \"tooltip\": [{\"field\": \"weekday\", \"type\": \"nominal\"}, {\"field\": \"commit_count\", \"type\": \"quantitative\"}], \"x\": {\"field\": \"weekday\", \"sort\": \"-y\", \"type\": \"nominal\"}, \"y\": {\"field\": \"commit_count\", \"type\": \"quantitative\"}}, \"params\": [{\"name\": \"param_15\", \"select\": {\"type\": \"point\", \"fields\": [\"weekday\"]}, \"bind\": \"legend\"}, {\"name\": \"param_16\", \"select\": {\"type\": \"interval\", \"encodings\": [\"x\", \"y\"]}, \"bind\": \"scales\"}], \"title\": \"Number of Commits Per Weekday\", \"$schema\": \"https://vega.github.io/schema/vega-lite/v5.17.0.json\", \"datasets\": {\"data-889384056f78f0ad334199a27cbd976f\": [{\"weekday\": \"Tuesday\", \"commit_count\": 121674}, {\"weekday\": \"Wednesday\", \"commit_count\": 120722}, {\"weekday\": \"Monday\", \"commit_count\": 115061}, {\"weekday\": \"Thursday\", \"commit_count\": 114669}, {\"weekday\": \"Friday\", \"commit_count\": 112297}, {\"weekday\": \"Saturday\", \"commit_count\": 44814}, {\"weekday\": \"Sunday\", \"commit_count\": 43072}]}}, {\"mode\": \"vega-lite\"});\n",
       "</script>"
      ],
      "text/plain": [
       "alt.Chart(...)"
      ]
     },
     "metadata": {},
     "output_type": "display_data"
    }
   ],
   "source": [
    "query = \"\"\"\n",
    "SELECT FORMAT_DATE('%A', DATE(committer.date)) as weekday, COUNT(*) as commit_count\n",
    "FROM `bruin-hiring.github_repos.sample_commits`\n",
    "GROUP BY weekday\n",
    "ORDER BY commit_count DESC;\n",
    "\"\"\"\n",
    "run_query_and_visualize(query, 'weekday', 'commit_count', chart_type='bar', title='Number of Commits Per Weekday')\n"
   ]
  },
  {
   "cell_type": "markdown",
   "metadata": {},
   "source": [
    "# 7) Additional Insights"
   ]
  },
  {
   "cell_type": "markdown",
   "metadata": {},
   "source": [
    "### 1. Commits by Hour of the Day"
   ]
  },
  {
   "cell_type": "code",
   "execution_count": 38,
   "metadata": {},
   "outputs": [
    {
     "name": "stdout",
     "output_type": "stream",
     "text": [
      "    commit_hour  commit_count\n",
      "0             0         29068\n",
      "1             1         25508\n",
      "2             2         19505\n",
      "3             3         19028\n",
      "4             4         18636\n",
      "5             5         18989\n",
      "6             6         19102\n",
      "7             7         20077\n",
      "8             8         23389\n",
      "9             9         23524\n",
      "10           10         21813\n",
      "11           11         20422\n",
      "12           12         22136\n",
      "13           13         22654\n",
      "14           14         25652\n",
      "15           15         34674\n",
      "16           16         35668\n",
      "17           17         36183\n",
      "18           18         39444\n",
      "19           19         40465\n",
      "20           20         42089\n",
      "21           21         38247\n",
      "22           22         37062\n",
      "23           23         38974\n"
     ]
    },
    {
     "name": "stderr",
     "output_type": "stream",
     "text": [
      "/Users/yigityavuzyildiz/anaconda3/envs/bruin/lib/python3.11/site-packages/altair/utils/deprecation.py:65: AltairDeprecationWarning: 'selection_multi' is deprecated.  Use 'selection_point'\n",
      "  warnings.warn(message, AltairDeprecationWarning, stacklevel=1)\n",
      "/Users/yigityavuzyildiz/anaconda3/envs/bruin/lib/python3.11/site-packages/altair/utils/deprecation.py:65: AltairDeprecationWarning: 'add_selection' is deprecated. Use 'add_params' instead.\n",
      "  warnings.warn(message, AltairDeprecationWarning, stacklevel=1)\n"
     ]
    },
    {
     "data": {
      "text/html": [
       "\n",
       "<style>\n",
       "  #altair-viz-7a0e61104f6449a6822fa214b9ac5d28.vega-embed {\n",
       "    width: 100%;\n",
       "    display: flex;\n",
       "  }\n",
       "\n",
       "  #altair-viz-7a0e61104f6449a6822fa214b9ac5d28.vega-embed details,\n",
       "  #altair-viz-7a0e61104f6449a6822fa214b9ac5d28.vega-embed details summary {\n",
       "    position: relative;\n",
       "  }\n",
       "</style>\n",
       "<div id=\"altair-viz-7a0e61104f6449a6822fa214b9ac5d28\"></div>\n",
       "<script type=\"text/javascript\">\n",
       "  var VEGA_DEBUG = (typeof VEGA_DEBUG == \"undefined\") ? {} : VEGA_DEBUG;\n",
       "  (function(spec, embedOpt){\n",
       "    let outputDiv = document.currentScript.previousElementSibling;\n",
       "    if (outputDiv.id !== \"altair-viz-7a0e61104f6449a6822fa214b9ac5d28\") {\n",
       "      outputDiv = document.getElementById(\"altair-viz-7a0e61104f6449a6822fa214b9ac5d28\");\n",
       "    }\n",
       "    const paths = {\n",
       "      \"vega\": \"https://cdn.jsdelivr.net/npm/vega@5?noext\",\n",
       "      \"vega-lib\": \"https://cdn.jsdelivr.net/npm/vega-lib?noext\",\n",
       "      \"vega-lite\": \"https://cdn.jsdelivr.net/npm/vega-lite@5.17.0?noext\",\n",
       "      \"vega-embed\": \"https://cdn.jsdelivr.net/npm/vega-embed@6?noext\",\n",
       "    };\n",
       "\n",
       "    function maybeLoadScript(lib, version) {\n",
       "      var key = `${lib.replace(\"-\", \"\")}_version`;\n",
       "      return (VEGA_DEBUG[key] == version) ?\n",
       "        Promise.resolve(paths[lib]) :\n",
       "        new Promise(function(resolve, reject) {\n",
       "          var s = document.createElement('script');\n",
       "          document.getElementsByTagName(\"head\")[0].appendChild(s);\n",
       "          s.async = true;\n",
       "          s.onload = () => {\n",
       "            VEGA_DEBUG[key] = version;\n",
       "            return resolve(paths[lib]);\n",
       "          };\n",
       "          s.onerror = () => reject(`Error loading script: ${paths[lib]}`);\n",
       "          s.src = paths[lib];\n",
       "        });\n",
       "    }\n",
       "\n",
       "    function showError(err) {\n",
       "      outputDiv.innerHTML = `<div class=\"error\" style=\"color:red;\">${err}</div>`;\n",
       "      throw err;\n",
       "    }\n",
       "\n",
       "    function displayChart(vegaEmbed) {\n",
       "      vegaEmbed(outputDiv, spec, embedOpt)\n",
       "        .catch(err => showError(`Javascript Error: ${err.message}<br>This usually means there's a typo in your chart specification. See the javascript console for the full traceback.`));\n",
       "    }\n",
       "\n",
       "    if(typeof define === \"function\" && define.amd) {\n",
       "      requirejs.config({paths});\n",
       "      require([\"vega-embed\"], displayChart, err => showError(`Error loading script: ${err.message}`));\n",
       "    } else {\n",
       "      maybeLoadScript(\"vega\", \"5\")\n",
       "        .then(() => maybeLoadScript(\"vega-lite\", \"5.17.0\"))\n",
       "        .then(() => maybeLoadScript(\"vega-embed\", \"6\"))\n",
       "        .catch(showError)\n",
       "        .then(() => displayChart(vegaEmbed));\n",
       "    }\n",
       "  })({\"config\": {\"view\": {\"continuousWidth\": 300, \"continuousHeight\": 300}}, \"data\": {\"name\": \"data-e60d61ba84d4783a7d216182308ba466\"}, \"mark\": {\"type\": \"bar\"}, \"encoding\": {\"color\": {\"condition\": {\"param\": \"param_17\", \"value\": \"steelblue\"}, \"value\": \"lightgray\"}, \"tooltip\": [{\"field\": \"commit_hour\", \"type\": \"quantitative\"}, {\"field\": \"commit_count\", \"type\": \"quantitative\"}], \"x\": {\"field\": \"commit_hour\", \"sort\": \"-y\", \"type\": \"quantitative\"}, \"y\": {\"field\": \"commit_count\", \"type\": \"quantitative\"}}, \"params\": [{\"name\": \"param_17\", \"select\": {\"type\": \"point\", \"fields\": [\"commit_hour\"]}, \"bind\": \"legend\"}, {\"name\": \"param_18\", \"select\": {\"type\": \"interval\", \"encodings\": [\"x\", \"y\"]}, \"bind\": \"scales\"}], \"title\": \"Commits by Hour of the Day\", \"$schema\": \"https://vega.github.io/schema/vega-lite/v5.17.0.json\", \"datasets\": {\"data-e60d61ba84d4783a7d216182308ba466\": [{\"commit_hour\": 0, \"commit_count\": 29068}, {\"commit_hour\": 1, \"commit_count\": 25508}, {\"commit_hour\": 2, \"commit_count\": 19505}, {\"commit_hour\": 3, \"commit_count\": 19028}, {\"commit_hour\": 4, \"commit_count\": 18636}, {\"commit_hour\": 5, \"commit_count\": 18989}, {\"commit_hour\": 6, \"commit_count\": 19102}, {\"commit_hour\": 7, \"commit_count\": 20077}, {\"commit_hour\": 8, \"commit_count\": 23389}, {\"commit_hour\": 9, \"commit_count\": 23524}, {\"commit_hour\": 10, \"commit_count\": 21813}, {\"commit_hour\": 11, \"commit_count\": 20422}, {\"commit_hour\": 12, \"commit_count\": 22136}, {\"commit_hour\": 13, \"commit_count\": 22654}, {\"commit_hour\": 14, \"commit_count\": 25652}, {\"commit_hour\": 15, \"commit_count\": 34674}, {\"commit_hour\": 16, \"commit_count\": 35668}, {\"commit_hour\": 17, \"commit_count\": 36183}, {\"commit_hour\": 18, \"commit_count\": 39444}, {\"commit_hour\": 19, \"commit_count\": 40465}, {\"commit_hour\": 20, \"commit_count\": 42089}, {\"commit_hour\": 21, \"commit_count\": 38247}, {\"commit_hour\": 22, \"commit_count\": 37062}, {\"commit_hour\": 23, \"commit_count\": 38974}]}}, {\"mode\": \"vega-lite\"});\n",
       "</script>"
      ],
      "text/plain": [
       "alt.Chart(...)"
      ]
     },
     "metadata": {},
     "output_type": "display_data"
    }
   ],
   "source": [
    "query = \"\"\"\n",
    "SELECT EXTRACT(HOUR FROM committer.date) as commit_hour, COUNT(*) as commit_count\n",
    "FROM `bruin-hiring.github_repos.sample_commits`\n",
    "GROUP BY commit_hour\n",
    "ORDER BY commit_hour;\n",
    "\"\"\"\n",
    "run_query_and_visualize(query, 'commit_hour', 'commit_count', chart_type='bar', title='Commits by Hour of the Day')\n"
   ]
  },
  {
   "cell_type": "markdown",
   "metadata": {},
   "source": [
    "### 2. Most Active Authors by Number of Repositories Contributed To\n"
   ]
  },
  {
   "cell_type": "code",
   "execution_count": 40,
   "metadata": {},
   "outputs": [
    {
     "name": "stdout",
     "output_type": "stream",
     "text": [
      "       author_name  repo_count\n",
      "0             Alex           3\n",
      "1     Prayag Verma           3\n",
      "2       Henry Wong           3\n",
      "3             Mark           2\n",
      "4  Anton Blanchard           2\n",
      "5      John Wright           2\n",
      "6    Jody McIntyre           2\n",
      "7  Max F. Albrecht           2\n",
      "8             Matt           2\n",
      "9      Kevin Huang           2\n"
     ]
    },
    {
     "name": "stderr",
     "output_type": "stream",
     "text": [
      "/Users/yigityavuzyildiz/anaconda3/envs/bruin/lib/python3.11/site-packages/altair/utils/deprecation.py:65: AltairDeprecationWarning: 'selection_multi' is deprecated.  Use 'selection_point'\n",
      "  warnings.warn(message, AltairDeprecationWarning, stacklevel=1)\n",
      "/Users/yigityavuzyildiz/anaconda3/envs/bruin/lib/python3.11/site-packages/altair/utils/deprecation.py:65: AltairDeprecationWarning: 'add_selection' is deprecated. Use 'add_params' instead.\n",
      "  warnings.warn(message, AltairDeprecationWarning, stacklevel=1)\n"
     ]
    },
    {
     "data": {
      "text/html": [
       "\n",
       "<style>\n",
       "  #altair-viz-c7fcafb799c446ab990a7df4dda054b6.vega-embed {\n",
       "    width: 100%;\n",
       "    display: flex;\n",
       "  }\n",
       "\n",
       "  #altair-viz-c7fcafb799c446ab990a7df4dda054b6.vega-embed details,\n",
       "  #altair-viz-c7fcafb799c446ab990a7df4dda054b6.vega-embed details summary {\n",
       "    position: relative;\n",
       "  }\n",
       "</style>\n",
       "<div id=\"altair-viz-c7fcafb799c446ab990a7df4dda054b6\"></div>\n",
       "<script type=\"text/javascript\">\n",
       "  var VEGA_DEBUG = (typeof VEGA_DEBUG == \"undefined\") ? {} : VEGA_DEBUG;\n",
       "  (function(spec, embedOpt){\n",
       "    let outputDiv = document.currentScript.previousElementSibling;\n",
       "    if (outputDiv.id !== \"altair-viz-c7fcafb799c446ab990a7df4dda054b6\") {\n",
       "      outputDiv = document.getElementById(\"altair-viz-c7fcafb799c446ab990a7df4dda054b6\");\n",
       "    }\n",
       "    const paths = {\n",
       "      \"vega\": \"https://cdn.jsdelivr.net/npm/vega@5?noext\",\n",
       "      \"vega-lib\": \"https://cdn.jsdelivr.net/npm/vega-lib?noext\",\n",
       "      \"vega-lite\": \"https://cdn.jsdelivr.net/npm/vega-lite@5.17.0?noext\",\n",
       "      \"vega-embed\": \"https://cdn.jsdelivr.net/npm/vega-embed@6?noext\",\n",
       "    };\n",
       "\n",
       "    function maybeLoadScript(lib, version) {\n",
       "      var key = `${lib.replace(\"-\", \"\")}_version`;\n",
       "      return (VEGA_DEBUG[key] == version) ?\n",
       "        Promise.resolve(paths[lib]) :\n",
       "        new Promise(function(resolve, reject) {\n",
       "          var s = document.createElement('script');\n",
       "          document.getElementsByTagName(\"head\")[0].appendChild(s);\n",
       "          s.async = true;\n",
       "          s.onload = () => {\n",
       "            VEGA_DEBUG[key] = version;\n",
       "            return resolve(paths[lib]);\n",
       "          };\n",
       "          s.onerror = () => reject(`Error loading script: ${paths[lib]}`);\n",
       "          s.src = paths[lib];\n",
       "        });\n",
       "    }\n",
       "\n",
       "    function showError(err) {\n",
       "      outputDiv.innerHTML = `<div class=\"error\" style=\"color:red;\">${err}</div>`;\n",
       "      throw err;\n",
       "    }\n",
       "\n",
       "    function displayChart(vegaEmbed) {\n",
       "      vegaEmbed(outputDiv, spec, embedOpt)\n",
       "        .catch(err => showError(`Javascript Error: ${err.message}<br>This usually means there's a typo in your chart specification. See the javascript console for the full traceback.`));\n",
       "    }\n",
       "\n",
       "    if(typeof define === \"function\" && define.amd) {\n",
       "      requirejs.config({paths});\n",
       "      require([\"vega-embed\"], displayChart, err => showError(`Error loading script: ${err.message}`));\n",
       "    } else {\n",
       "      maybeLoadScript(\"vega\", \"5\")\n",
       "        .then(() => maybeLoadScript(\"vega-lite\", \"5.17.0\"))\n",
       "        .then(() => maybeLoadScript(\"vega-embed\", \"6\"))\n",
       "        .catch(showError)\n",
       "        .then(() => displayChart(vegaEmbed));\n",
       "    }\n",
       "  })({\"config\": {\"view\": {\"continuousWidth\": 300, \"continuousHeight\": 300}}, \"data\": {\"name\": \"data-5a6b7ee8e5bb8792d05ec2eecca8b981\"}, \"mark\": {\"type\": \"bar\"}, \"encoding\": {\"color\": {\"condition\": {\"param\": \"param_21\", \"value\": \"steelblue\"}, \"value\": \"lightgray\"}, \"tooltip\": [{\"field\": \"author_name\", \"type\": \"nominal\"}, {\"field\": \"repo_count\", \"type\": \"quantitative\"}], \"x\": {\"field\": \"author_name\", \"sort\": \"-y\", \"type\": \"nominal\"}, \"y\": {\"field\": \"repo_count\", \"type\": \"quantitative\"}}, \"params\": [{\"name\": \"param_21\", \"select\": {\"type\": \"point\", \"fields\": [\"author_name\"]}, \"bind\": \"legend\"}, {\"name\": \"param_22\", \"select\": {\"type\": \"interval\", \"encodings\": [\"x\", \"y\"]}, \"bind\": \"scales\"}], \"title\": \"Most Active Authors by Number of Repositories Contributed To\", \"$schema\": \"https://vega.github.io/schema/vega-lite/v5.17.0.json\", \"datasets\": {\"data-5a6b7ee8e5bb8792d05ec2eecca8b981\": [{\"author_name\": \"Alex\", \"repo_count\": 3}, {\"author_name\": \"Prayag Verma\", \"repo_count\": 3}, {\"author_name\": \"Henry Wong\", \"repo_count\": 3}, {\"author_name\": \"Mark\", \"repo_count\": 2}, {\"author_name\": \"Anton Blanchard\", \"repo_count\": 2}, {\"author_name\": \"John Wright\", \"repo_count\": 2}, {\"author_name\": \"Jody McIntyre\", \"repo_count\": 2}, {\"author_name\": \"Max F. Albrecht\", \"repo_count\": 2}, {\"author_name\": \"Matt\", \"repo_count\": 2}, {\"author_name\": \"Kevin Huang\", \"repo_count\": 2}]}}, {\"mode\": \"vega-lite\"});\n",
       "</script>"
      ],
      "text/plain": [
       "alt.Chart(...)"
      ]
     },
     "metadata": {},
     "output_type": "display_data"
    }
   ],
   "source": [
    "query = \"\"\"\n",
    "SELECT author.name as author_name, COUNT(DISTINCT repo_name) as repo_count\n",
    "FROM `bruin-hiring.github_repos.sample_commits`\n",
    "GROUP BY author_name\n",
    "ORDER BY repo_count DESC\n",
    "LIMIT 10;\n",
    "\"\"\"\n",
    "run_query_and_visualize(query, 'author_name', 'repo_count', chart_type='bar', title='Most Active Authors by Number of Repositories Contributed To')\n"
   ]
  },
  {
   "cell_type": "markdown",
   "metadata": {},
   "source": [
    "### 3. Number of Files Changed per Commit\n"
   ]
  },
  {
   "cell_type": "code",
   "execution_count": 41,
   "metadata": {},
   "outputs": [
    {
     "name": "stdout",
     "output_type": "stream",
     "text": [
      "                                     commit  files_changed\n",
      "0  e5451c8f8330e03ad3cfa16048b4daf961af434f          53003\n",
      "1  f43dc23d5ea91fca257be02138a255f02d98e806          26947\n",
      "2  2d8ad8719591fa803b0d589ed057fa46f49b7155          23633\n",
      "3  cf9ce948f47640797bd19980e1d99c6d17d0bdc3          21526\n",
      "4  e8cdfb0509f48d44d95d68d4f42d8d71a9ba4acd          19597\n",
      "5  9938b04472d5c59f8bd8152a548533a8599596a2          18852\n",
      "6  b74b953b998bcc2db91b694446f3a2619ec32de6          18512\n",
      "7  7a9787e1eba95a166265e6a260cf30af04ef0a99          18502\n",
      "8  94bd217e2d683719ab21a4ac117d8a1b91cbedc9          18420\n",
      "9  b2aaf8f74cdc84a9182f6cabf198b7763bcb9d40          17815\n"
     ]
    },
    {
     "name": "stderr",
     "output_type": "stream",
     "text": [
      "/Users/yigityavuzyildiz/anaconda3/envs/bruin/lib/python3.11/site-packages/altair/utils/deprecation.py:65: AltairDeprecationWarning: 'selection_multi' is deprecated.  Use 'selection_point'\n",
      "  warnings.warn(message, AltairDeprecationWarning, stacklevel=1)\n",
      "/Users/yigityavuzyildiz/anaconda3/envs/bruin/lib/python3.11/site-packages/altair/utils/deprecation.py:65: AltairDeprecationWarning: 'add_selection' is deprecated. Use 'add_params' instead.\n",
      "  warnings.warn(message, AltairDeprecationWarning, stacklevel=1)\n"
     ]
    },
    {
     "data": {
      "text/html": [
       "\n",
       "<style>\n",
       "  #altair-viz-250e1af32efc4d9a9942b5d25a3926a0.vega-embed {\n",
       "    width: 100%;\n",
       "    display: flex;\n",
       "  }\n",
       "\n",
       "  #altair-viz-250e1af32efc4d9a9942b5d25a3926a0.vega-embed details,\n",
       "  #altair-viz-250e1af32efc4d9a9942b5d25a3926a0.vega-embed details summary {\n",
       "    position: relative;\n",
       "  }\n",
       "</style>\n",
       "<div id=\"altair-viz-250e1af32efc4d9a9942b5d25a3926a0\"></div>\n",
       "<script type=\"text/javascript\">\n",
       "  var VEGA_DEBUG = (typeof VEGA_DEBUG == \"undefined\") ? {} : VEGA_DEBUG;\n",
       "  (function(spec, embedOpt){\n",
       "    let outputDiv = document.currentScript.previousElementSibling;\n",
       "    if (outputDiv.id !== \"altair-viz-250e1af32efc4d9a9942b5d25a3926a0\") {\n",
       "      outputDiv = document.getElementById(\"altair-viz-250e1af32efc4d9a9942b5d25a3926a0\");\n",
       "    }\n",
       "    const paths = {\n",
       "      \"vega\": \"https://cdn.jsdelivr.net/npm/vega@5?noext\",\n",
       "      \"vega-lib\": \"https://cdn.jsdelivr.net/npm/vega-lib?noext\",\n",
       "      \"vega-lite\": \"https://cdn.jsdelivr.net/npm/vega-lite@5.17.0?noext\",\n",
       "      \"vega-embed\": \"https://cdn.jsdelivr.net/npm/vega-embed@6?noext\",\n",
       "    };\n",
       "\n",
       "    function maybeLoadScript(lib, version) {\n",
       "      var key = `${lib.replace(\"-\", \"\")}_version`;\n",
       "      return (VEGA_DEBUG[key] == version) ?\n",
       "        Promise.resolve(paths[lib]) :\n",
       "        new Promise(function(resolve, reject) {\n",
       "          var s = document.createElement('script');\n",
       "          document.getElementsByTagName(\"head\")[0].appendChild(s);\n",
       "          s.async = true;\n",
       "          s.onload = () => {\n",
       "            VEGA_DEBUG[key] = version;\n",
       "            return resolve(paths[lib]);\n",
       "          };\n",
       "          s.onerror = () => reject(`Error loading script: ${paths[lib]}`);\n",
       "          s.src = paths[lib];\n",
       "        });\n",
       "    }\n",
       "\n",
       "    function showError(err) {\n",
       "      outputDiv.innerHTML = `<div class=\"error\" style=\"color:red;\">${err}</div>`;\n",
       "      throw err;\n",
       "    }\n",
       "\n",
       "    function displayChart(vegaEmbed) {\n",
       "      vegaEmbed(outputDiv, spec, embedOpt)\n",
       "        .catch(err => showError(`Javascript Error: ${err.message}<br>This usually means there's a typo in your chart specification. See the javascript console for the full traceback.`));\n",
       "    }\n",
       "\n",
       "    if(typeof define === \"function\" && define.amd) {\n",
       "      requirejs.config({paths});\n",
       "      require([\"vega-embed\"], displayChart, err => showError(`Error loading script: ${err.message}`));\n",
       "    } else {\n",
       "      maybeLoadScript(\"vega\", \"5\")\n",
       "        .then(() => maybeLoadScript(\"vega-lite\", \"5.17.0\"))\n",
       "        .then(() => maybeLoadScript(\"vega-embed\", \"6\"))\n",
       "        .catch(showError)\n",
       "        .then(() => displayChart(vegaEmbed));\n",
       "    }\n",
       "  })({\"config\": {\"view\": {\"continuousWidth\": 300, \"continuousHeight\": 300}}, \"data\": {\"name\": \"data-204db93fba2a10c3c2eef25462f72ace\"}, \"mark\": {\"type\": \"bar\"}, \"encoding\": {\"color\": {\"condition\": {\"param\": \"param_23\", \"value\": \"steelblue\"}, \"value\": \"lightgray\"}, \"tooltip\": [{\"field\": \"commit\", \"type\": \"nominal\"}, {\"field\": \"files_changed\", \"type\": \"quantitative\"}], \"x\": {\"field\": \"commit\", \"sort\": \"-y\", \"type\": \"nominal\"}, \"y\": {\"field\": \"files_changed\", \"type\": \"quantitative\"}}, \"params\": [{\"name\": \"param_23\", \"select\": {\"type\": \"point\", \"fields\": [\"commit\"]}, \"bind\": \"legend\"}, {\"name\": \"param_24\", \"select\": {\"type\": \"interval\", \"encodings\": [\"x\", \"y\"]}, \"bind\": \"scales\"}], \"title\": \"Number of Files Changed per Commit\", \"$schema\": \"https://vega.github.io/schema/vega-lite/v5.17.0.json\", \"datasets\": {\"data-204db93fba2a10c3c2eef25462f72ace\": [{\"commit\": \"e5451c8f8330e03ad3cfa16048b4daf961af434f\", \"files_changed\": 53003}, {\"commit\": \"f43dc23d5ea91fca257be02138a255f02d98e806\", \"files_changed\": 26947}, {\"commit\": \"2d8ad8719591fa803b0d589ed057fa46f49b7155\", \"files_changed\": 23633}, {\"commit\": \"cf9ce948f47640797bd19980e1d99c6d17d0bdc3\", \"files_changed\": 21526}, {\"commit\": \"e8cdfb0509f48d44d95d68d4f42d8d71a9ba4acd\", \"files_changed\": 19597}, {\"commit\": \"9938b04472d5c59f8bd8152a548533a8599596a2\", \"files_changed\": 18852}, {\"commit\": \"b74b953b998bcc2db91b694446f3a2619ec32de6\", \"files_changed\": 18512}, {\"commit\": \"7a9787e1eba95a166265e6a260cf30af04ef0a99\", \"files_changed\": 18502}, {\"commit\": \"94bd217e2d683719ab21a4ac117d8a1b91cbedc9\", \"files_changed\": 18420}, {\"commit\": \"b2aaf8f74cdc84a9182f6cabf198b7763bcb9d40\", \"files_changed\": 17815}]}}, {\"mode\": \"vega-lite\"});\n",
       "</script>"
      ],
      "text/plain": [
       "alt.Chart(...)"
      ]
     },
     "metadata": {},
     "output_type": "display_data"
    }
   ],
   "source": [
    "query = \"\"\"\n",
    "SELECT commit, ARRAY_LENGTH(difference) as files_changed\n",
    "FROM `bruin-hiring.github_repos.sample_commits`\n",
    "ORDER BY files_changed DESC\n",
    "LIMIT 10;\n",
    "\"\"\"\n",
    "run_query_and_visualize(query, 'commit', 'files_changed', chart_type='bar', title='Number of Files Changed per Commit')\n"
   ]
  },
  {
   "cell_type": "markdown",
   "metadata": {},
   "source": [
    "### 4. Commits by Author and Repository\n"
   ]
  },
  {
   "cell_type": "code",
   "execution_count": 43,
   "metadata": {},
   "outputs": [
    {
     "name": "stdout",
     "output_type": "stream",
     "text": [
      "             author_name       repo_name  commit_count\n",
      "0         Linus Torvalds  torvalds/linux         20776\n",
      "1        David S. Miller  torvalds/linux          7552\n",
      "2             Mark Brown  torvalds/linux          6466\n",
      "3      H Hartley Sweeten  torvalds/linux          5857\n",
      "4              Mark Otto  twbs/bootstrap          5823\n",
      "5           Takashi Iwai  torvalds/linux          5801\n",
      "6                Al Viro  torvalds/linux          5439\n",
      "7            Ingo Molnar  torvalds/linux          4858\n",
      "8          Chris Lattner     apple/swift          4448\n",
      "9  Mauro Carvalho Chehab  torvalds/linux          4043\n"
     ]
    },
    {
     "name": "stderr",
     "output_type": "stream",
     "text": [
      "/Users/yigityavuzyildiz/anaconda3/envs/bruin/lib/python3.11/site-packages/altair/utils/deprecation.py:65: AltairDeprecationWarning: 'selection_multi' is deprecated.  Use 'selection_point'\n",
      "  warnings.warn(message, AltairDeprecationWarning, stacklevel=1)\n",
      "/Users/yigityavuzyildiz/anaconda3/envs/bruin/lib/python3.11/site-packages/altair/utils/deprecation.py:65: AltairDeprecationWarning: 'add_selection' is deprecated. Use 'add_params' instead.\n",
      "  warnings.warn(message, AltairDeprecationWarning, stacklevel=1)\n"
     ]
    },
    {
     "data": {
      "text/html": [
       "\n",
       "<style>\n",
       "  #altair-viz-55522ee6c5e841ec88b59827a3ec5f43.vega-embed {\n",
       "    width: 100%;\n",
       "    display: flex;\n",
       "  }\n",
       "\n",
       "  #altair-viz-55522ee6c5e841ec88b59827a3ec5f43.vega-embed details,\n",
       "  #altair-viz-55522ee6c5e841ec88b59827a3ec5f43.vega-embed details summary {\n",
       "    position: relative;\n",
       "  }\n",
       "</style>\n",
       "<div id=\"altair-viz-55522ee6c5e841ec88b59827a3ec5f43\"></div>\n",
       "<script type=\"text/javascript\">\n",
       "  var VEGA_DEBUG = (typeof VEGA_DEBUG == \"undefined\") ? {} : VEGA_DEBUG;\n",
       "  (function(spec, embedOpt){\n",
       "    let outputDiv = document.currentScript.previousElementSibling;\n",
       "    if (outputDiv.id !== \"altair-viz-55522ee6c5e841ec88b59827a3ec5f43\") {\n",
       "      outputDiv = document.getElementById(\"altair-viz-55522ee6c5e841ec88b59827a3ec5f43\");\n",
       "    }\n",
       "    const paths = {\n",
       "      \"vega\": \"https://cdn.jsdelivr.net/npm/vega@5?noext\",\n",
       "      \"vega-lib\": \"https://cdn.jsdelivr.net/npm/vega-lib?noext\",\n",
       "      \"vega-lite\": \"https://cdn.jsdelivr.net/npm/vega-lite@5.17.0?noext\",\n",
       "      \"vega-embed\": \"https://cdn.jsdelivr.net/npm/vega-embed@6?noext\",\n",
       "    };\n",
       "\n",
       "    function maybeLoadScript(lib, version) {\n",
       "      var key = `${lib.replace(\"-\", \"\")}_version`;\n",
       "      return (VEGA_DEBUG[key] == version) ?\n",
       "        Promise.resolve(paths[lib]) :\n",
       "        new Promise(function(resolve, reject) {\n",
       "          var s = document.createElement('script');\n",
       "          document.getElementsByTagName(\"head\")[0].appendChild(s);\n",
       "          s.async = true;\n",
       "          s.onload = () => {\n",
       "            VEGA_DEBUG[key] = version;\n",
       "            return resolve(paths[lib]);\n",
       "          };\n",
       "          s.onerror = () => reject(`Error loading script: ${paths[lib]}`);\n",
       "          s.src = paths[lib];\n",
       "        });\n",
       "    }\n",
       "\n",
       "    function showError(err) {\n",
       "      outputDiv.innerHTML = `<div class=\"error\" style=\"color:red;\">${err}</div>`;\n",
       "      throw err;\n",
       "    }\n",
       "\n",
       "    function displayChart(vegaEmbed) {\n",
       "      vegaEmbed(outputDiv, spec, embedOpt)\n",
       "        .catch(err => showError(`Javascript Error: ${err.message}<br>This usually means there's a typo in your chart specification. See the javascript console for the full traceback.`));\n",
       "    }\n",
       "\n",
       "    if(typeof define === \"function\" && define.amd) {\n",
       "      requirejs.config({paths});\n",
       "      require([\"vega-embed\"], displayChart, err => showError(`Error loading script: ${err.message}`));\n",
       "    } else {\n",
       "      maybeLoadScript(\"vega\", \"5\")\n",
       "        .then(() => maybeLoadScript(\"vega-lite\", \"5.17.0\"))\n",
       "        .then(() => maybeLoadScript(\"vega-embed\", \"6\"))\n",
       "        .catch(showError)\n",
       "        .then(() => displayChart(vegaEmbed));\n",
       "    }\n",
       "  })({\"config\": {\"view\": {\"continuousWidth\": 300, \"continuousHeight\": 300}}, \"data\": {\"name\": \"data-b0c06157220288c5a7c8cf5be732c922\"}, \"mark\": {\"type\": \"bar\"}, \"encoding\": {\"color\": {\"condition\": {\"param\": \"param_27\", \"value\": \"steelblue\"}, \"value\": \"lightgray\"}, \"tooltip\": [{\"field\": \"author_name\", \"type\": \"nominal\"}, {\"field\": \"commit_count\", \"type\": \"quantitative\"}], \"x\": {\"field\": \"author_name\", \"sort\": \"-y\", \"type\": \"nominal\"}, \"y\": {\"field\": \"commit_count\", \"type\": \"quantitative\"}}, \"params\": [{\"name\": \"param_27\", \"select\": {\"type\": \"point\", \"fields\": [\"author_name\"]}, \"bind\": \"legend\"}, {\"name\": \"param_28\", \"select\": {\"type\": \"interval\", \"encodings\": [\"x\", \"y\"]}, \"bind\": \"scales\"}], \"title\": \"Commits by Author and Repository\", \"$schema\": \"https://vega.github.io/schema/vega-lite/v5.17.0.json\", \"datasets\": {\"data-b0c06157220288c5a7c8cf5be732c922\": [{\"author_name\": \"Linus Torvalds\", \"repo_name\": \"torvalds/linux\", \"commit_count\": 20776}, {\"author_name\": \"David S. Miller\", \"repo_name\": \"torvalds/linux\", \"commit_count\": 7552}, {\"author_name\": \"Mark Brown\", \"repo_name\": \"torvalds/linux\", \"commit_count\": 6466}, {\"author_name\": \"H Hartley Sweeten\", \"repo_name\": \"torvalds/linux\", \"commit_count\": 5857}, {\"author_name\": \"Mark Otto\", \"repo_name\": \"twbs/bootstrap\", \"commit_count\": 5823}, {\"author_name\": \"Takashi Iwai\", \"repo_name\": \"torvalds/linux\", \"commit_count\": 5801}, {\"author_name\": \"Al Viro\", \"repo_name\": \"torvalds/linux\", \"commit_count\": 5439}, {\"author_name\": \"Ingo Molnar\", \"repo_name\": \"torvalds/linux\", \"commit_count\": 4858}, {\"author_name\": \"Chris Lattner\", \"repo_name\": \"apple/swift\", \"commit_count\": 4448}, {\"author_name\": \"Mauro Carvalho Chehab\", \"repo_name\": \"torvalds/linux\", \"commit_count\": 4043}]}}, {\"mode\": \"vega-lite\"});\n",
       "</script>"
      ],
      "text/plain": [
       "alt.Chart(...)"
      ]
     },
     "metadata": {},
     "output_type": "display_data"
    }
   ],
   "source": [
    "query = \"\"\"\n",
    "SELECT author.name as author_name, repo_name, COUNT(*) as commit_count\n",
    "FROM `bruin-hiring.github_repos.sample_commits`\n",
    "GROUP BY author_name, repo_name\n",
    "ORDER BY commit_count DESC\n",
    "LIMIT 10;\n",
    "\"\"\"\n",
    "run_query_and_visualize(query, 'author_name', 'commit_count', chart_type='bar', title='Commits by Author and Repository')\n"
   ]
  },
  {
   "cell_type": "markdown",
   "metadata": {},
   "source": [
    "# 8) Bonus"
   ]
  },
  {
   "cell_type": "code",
   "execution_count": 44,
   "metadata": {},
   "outputs": [
    {
     "name": "stdout",
     "output_type": "stream",
     "text": [
      "        repo_name                             file_path  commit_count\n",
      "0  torvalds/linux                           MAINTAINERS         10465\n",
      "1  torvalds/linux  drivers/gpu/drm/i915/intel_display.c          5349\n",
      "2  torvalds/linux                              Makefile          4994\n",
      "3  torvalds/linux         sound/pci/hda/patch_realtek.c          4668\n",
      "4  torvalds/linux                      arch/arm/Kconfig          4277\n"
     ]
    },
    {
     "name": "stderr",
     "output_type": "stream",
     "text": [
      "/Users/yigityavuzyildiz/anaconda3/envs/bruin/lib/python3.11/site-packages/altair/utils/deprecation.py:65: AltairDeprecationWarning: 'selection_multi' is deprecated.  Use 'selection_point'\n",
      "  warnings.warn(message, AltairDeprecationWarning, stacklevel=1)\n",
      "/Users/yigityavuzyildiz/anaconda3/envs/bruin/lib/python3.11/site-packages/altair/utils/deprecation.py:65: AltairDeprecationWarning: 'add_selection' is deprecated. Use 'add_params' instead.\n",
      "  warnings.warn(message, AltairDeprecationWarning, stacklevel=1)\n"
     ]
    },
    {
     "data": {
      "text/html": [
       "\n",
       "<style>\n",
       "  #altair-viz-4d051df4f74a405aac5beb93cb3abe4d.vega-embed {\n",
       "    width: 100%;\n",
       "    display: flex;\n",
       "  }\n",
       "\n",
       "  #altair-viz-4d051df4f74a405aac5beb93cb3abe4d.vega-embed details,\n",
       "  #altair-viz-4d051df4f74a405aac5beb93cb3abe4d.vega-embed details summary {\n",
       "    position: relative;\n",
       "  }\n",
       "</style>\n",
       "<div id=\"altair-viz-4d051df4f74a405aac5beb93cb3abe4d\"></div>\n",
       "<script type=\"text/javascript\">\n",
       "  var VEGA_DEBUG = (typeof VEGA_DEBUG == \"undefined\") ? {} : VEGA_DEBUG;\n",
       "  (function(spec, embedOpt){\n",
       "    let outputDiv = document.currentScript.previousElementSibling;\n",
       "    if (outputDiv.id !== \"altair-viz-4d051df4f74a405aac5beb93cb3abe4d\") {\n",
       "      outputDiv = document.getElementById(\"altair-viz-4d051df4f74a405aac5beb93cb3abe4d\");\n",
       "    }\n",
       "    const paths = {\n",
       "      \"vega\": \"https://cdn.jsdelivr.net/npm/vega@5?noext\",\n",
       "      \"vega-lib\": \"https://cdn.jsdelivr.net/npm/vega-lib?noext\",\n",
       "      \"vega-lite\": \"https://cdn.jsdelivr.net/npm/vega-lite@5.17.0?noext\",\n",
       "      \"vega-embed\": \"https://cdn.jsdelivr.net/npm/vega-embed@6?noext\",\n",
       "    };\n",
       "\n",
       "    function maybeLoadScript(lib, version) {\n",
       "      var key = `${lib.replace(\"-\", \"\")}_version`;\n",
       "      return (VEGA_DEBUG[key] == version) ?\n",
       "        Promise.resolve(paths[lib]) :\n",
       "        new Promise(function(resolve, reject) {\n",
       "          var s = document.createElement('script');\n",
       "          document.getElementsByTagName(\"head\")[0].appendChild(s);\n",
       "          s.async = true;\n",
       "          s.onload = () => {\n",
       "            VEGA_DEBUG[key] = version;\n",
       "            return resolve(paths[lib]);\n",
       "          };\n",
       "          s.onerror = () => reject(`Error loading script: ${paths[lib]}`);\n",
       "          s.src = paths[lib];\n",
       "        });\n",
       "    }\n",
       "\n",
       "    function showError(err) {\n",
       "      outputDiv.innerHTML = `<div class=\"error\" style=\"color:red;\">${err}</div>`;\n",
       "      throw err;\n",
       "    }\n",
       "\n",
       "    function displayChart(vegaEmbed) {\n",
       "      vegaEmbed(outputDiv, spec, embedOpt)\n",
       "        .catch(err => showError(`Javascript Error: ${err.message}<br>This usually means there's a typo in your chart specification. See the javascript console for the full traceback.`));\n",
       "    }\n",
       "\n",
       "    if(typeof define === \"function\" && define.amd) {\n",
       "      requirejs.config({paths});\n",
       "      require([\"vega-embed\"], displayChart, err => showError(`Error loading script: ${err.message}`));\n",
       "    } else {\n",
       "      maybeLoadScript(\"vega\", \"5\")\n",
       "        .then(() => maybeLoadScript(\"vega-lite\", \"5.17.0\"))\n",
       "        .then(() => maybeLoadScript(\"vega-embed\", \"6\"))\n",
       "        .catch(showError)\n",
       "        .then(() => displayChart(vegaEmbed));\n",
       "    }\n",
       "  })({\"config\": {\"view\": {\"continuousWidth\": 300, \"continuousHeight\": 300}}, \"data\": {\"name\": \"data-5a4e2512a65d9a66be2bdbaf02b6727e\"}, \"mark\": {\"type\": \"bar\"}, \"encoding\": {\"color\": {\"condition\": {\"param\": \"param_29\", \"value\": \"steelblue\"}, \"value\": \"lightgray\"}, \"tooltip\": [{\"field\": \"file_path\", \"type\": \"nominal\"}, {\"field\": \"commit_count\", \"type\": \"quantitative\"}], \"x\": {\"field\": \"file_path\", \"sort\": \"-y\", \"type\": \"nominal\"}, \"y\": {\"field\": \"commit_count\", \"type\": \"quantitative\"}}, \"params\": [{\"name\": \"param_29\", \"select\": {\"type\": \"point\", \"fields\": [\"file_path\"]}, \"bind\": \"legend\"}, {\"name\": \"param_30\", \"select\": {\"type\": \"interval\", \"encodings\": [\"x\", \"y\"]}, \"bind\": \"scales\"}], \"title\": \"Top 5 Files with the Most Commits Per Repo\", \"$schema\": \"https://vega.github.io/schema/vega-lite/v5.17.0.json\", \"datasets\": {\"data-5a4e2512a65d9a66be2bdbaf02b6727e\": [{\"repo_name\": \"torvalds/linux\", \"file_path\": \"MAINTAINERS\", \"commit_count\": 10465}, {\"repo_name\": \"torvalds/linux\", \"file_path\": \"drivers/gpu/drm/i915/intel_display.c\", \"commit_count\": 5349}, {\"repo_name\": \"torvalds/linux\", \"file_path\": \"Makefile\", \"commit_count\": 4994}, {\"repo_name\": \"torvalds/linux\", \"file_path\": \"sound/pci/hda/patch_realtek.c\", \"commit_count\": 4668}, {\"repo_name\": \"torvalds/linux\", \"file_path\": \"arch/arm/Kconfig\", \"commit_count\": 4277}]}}, {\"mode\": \"vega-lite\"});\n",
       "</script>"
      ],
      "text/plain": [
       "alt.Chart(...)"
      ]
     },
     "metadata": {},
     "output_type": "display_data"
    }
   ],
   "source": [
    "query = \"\"\"\n",
    "SELECT repo_name, diff.new_path as file_path, COUNT(*) as commit_count\n",
    "FROM `bruin-hiring.github_repos.sample_commits`,\n",
    "UNNEST(difference) as diff\n",
    "GROUP BY repo_name, file_path\n",
    "ORDER BY commit_count DESC\n",
    "LIMIT 5;\n",
    "\"\"\"\n",
    "\n",
    "run_query_and_visualize(query, 'file_path', 'commit_count', chart_type='bar', title='Top 5 Files with the Most Commits Per Repo')\n"
   ]
  },
  {
   "cell_type": "code",
   "execution_count": null,
   "metadata": {},
   "outputs": [],
   "source": []
  },
  {
   "cell_type": "code",
   "execution_count": null,
   "metadata": {},
   "outputs": [],
   "source": []
  },
  {
   "cell_type": "code",
   "execution_count": null,
   "metadata": {},
   "outputs": [],
   "source": []
  },
  {
   "cell_type": "code",
   "execution_count": null,
   "metadata": {},
   "outputs": [],
   "source": []
  }
 ],
 "metadata": {
  "kernelspec": {
   "display_name": "dersenv",
   "language": "python",
   "name": "python3"
  },
  "language_info": {
   "codemirror_mode": {
    "name": "ipython",
    "version": 3
   },
   "file_extension": ".py",
   "mimetype": "text/x-python",
   "name": "python",
   "nbconvert_exporter": "python",
   "pygments_lexer": "ipython3",
   "version": "3.11.9"
  }
 },
 "nbformat": 4,
 "nbformat_minor": 2
}
